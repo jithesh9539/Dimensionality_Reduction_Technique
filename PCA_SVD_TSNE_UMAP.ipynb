{
  "nbformat": 4,
  "nbformat_minor": 0,
  "metadata": {
    "colab": {
      "name": "PCA_SVD_TSNE_UMAP.ipynb",
      "provenance": [],
      "collapsed_sections": [],
      "authorship_tag": "ABX9TyNyYwadMDvJ9n3p4pwiO4I9",
      "include_colab_link": true
    },
    "kernelspec": {
      "name": "python3",
      "display_name": "Python 3"
    },
    "language_info": {
      "name": "python"
    }
  },
  "cells": [
    {
      "cell_type": "markdown",
      "metadata": {
        "id": "view-in-github",
        "colab_type": "text"
      },
      "source": [
        "<a href=\"https://colab.research.google.com/github/jithesh9539/Dimensionality_Reduction_Technique/blob/main/PCA_SVD_TSNE_UMAP.ipynb\" target=\"_parent\"><img src=\"https://colab.research.google.com/assets/colab-badge.svg\" alt=\"Open In Colab\"/></a>"
      ]
    },
    {
      "cell_type": "markdown",
      "metadata": {
        "id": "6c9Rctoyyoqm"
      },
      "source": [
        "**PCA**"
      ]
    },
    {
      "cell_type": "code",
      "metadata": {
        "id": "qJNhDyAmukP2"
      },
      "source": [
        "import numpy as np\n",
        "import pandas as pd\n",
        "import seaborn as sns\n",
        "import matplotlib.pyplot as plt\n",
        "from sklearn.decomposition import PCA\n",
        "from sklearn.preprocessing import StandardScaler,LabelEncoder\n",
        "from sklearn.manifold import TSNE\n",
        "import umap"
      ],
      "execution_count": 57,
      "outputs": []
    },
    {
      "cell_type": "code",
      "metadata": {
        "colab": {
          "base_uri": "https://localhost:8080/",
          "height": 1000
        },
        "id": "4qDxm2sYlNx9",
        "outputId": "8745fcc8-164c-4f32-d68e-fb82110103ca"
      },
      "source": [
        "!pip install umap-learn[plot]\n",
        "!pip install holoviews\n",
        "!pip install -U ipykernel"
      ],
      "execution_count": 56,
      "outputs": [
        {
          "output_type": "stream",
          "name": "stdout",
          "text": [
            "Collecting umap-learn[plot]\n",
            "  Downloading umap-learn-0.5.2.tar.gz (86 kB)\n",
            "\u001b[K     |████████████████████████████████| 86 kB 1.6 MB/s \n",
            "\u001b[?25hRequirement already satisfied: numpy>=1.17 in /usr/local/lib/python3.7/dist-packages (from umap-learn[plot]) (1.19.5)\n",
            "Requirement already satisfied: scikit-learn>=0.22 in /usr/local/lib/python3.7/dist-packages (from umap-learn[plot]) (0.22.2.post1)\n",
            "Requirement already satisfied: scipy>=1.0 in /usr/local/lib/python3.7/dist-packages (from umap-learn[plot]) (1.4.1)\n",
            "Requirement already satisfied: numba>=0.49 in /usr/local/lib/python3.7/dist-packages (from umap-learn[plot]) (0.51.2)\n",
            "Collecting pynndescent>=0.5\n",
            "  Downloading pynndescent-0.5.5.tar.gz (1.1 MB)\n",
            "\u001b[K     |████████████████████████████████| 1.1 MB 4.8 MB/s \n",
            "\u001b[?25hRequirement already satisfied: tqdm in /usr/local/lib/python3.7/dist-packages (from umap-learn[plot]) (4.62.3)\n",
            "Requirement already satisfied: pandas in /usr/local/lib/python3.7/dist-packages (from umap-learn[plot]) (1.1.5)\n",
            "Requirement already satisfied: matplotlib in /usr/local/lib/python3.7/dist-packages (from umap-learn[plot]) (3.2.2)\n",
            "Collecting datashader\n",
            "  Downloading datashader-0.13.0-py2.py3-none-any.whl (15.8 MB)\n",
            "\u001b[K     |████████████████████████████████| 15.8 MB 628 bytes/s \n",
            "\u001b[?25hRequirement already satisfied: bokeh in /usr/local/lib/python3.7/dist-packages (from umap-learn[plot]) (2.3.3)\n",
            "Requirement already satisfied: holoviews in /usr/local/lib/python3.7/dist-packages (from umap-learn[plot]) (1.14.6)\n",
            "Requirement already satisfied: colorcet in /usr/local/lib/python3.7/dist-packages (from umap-learn[plot]) (2.0.6)\n",
            "Requirement already satisfied: seaborn in /usr/local/lib/python3.7/dist-packages (from umap-learn[plot]) (0.11.2)\n",
            "Requirement already satisfied: scikit-image in /usr/local/lib/python3.7/dist-packages (from umap-learn[plot]) (0.16.2)\n",
            "Requirement already satisfied: setuptools in /usr/local/lib/python3.7/dist-packages (from numba>=0.49->umap-learn[plot]) (57.4.0)\n",
            "Requirement already satisfied: llvmlite<0.35,>=0.34.0.dev0 in /usr/local/lib/python3.7/dist-packages (from numba>=0.49->umap-learn[plot]) (0.34.0)\n",
            "Requirement already satisfied: joblib>=0.11 in /usr/local/lib/python3.7/dist-packages (from pynndescent>=0.5->umap-learn[plot]) (1.0.1)\n",
            "Requirement already satisfied: Jinja2>=2.9 in /usr/local/lib/python3.7/dist-packages (from bokeh->umap-learn[plot]) (2.11.3)\n",
            "Requirement already satisfied: typing-extensions>=3.7.4 in /usr/local/lib/python3.7/dist-packages (from bokeh->umap-learn[plot]) (3.7.4.3)\n",
            "Requirement already satisfied: tornado>=5.1 in /usr/local/lib/python3.7/dist-packages (from bokeh->umap-learn[plot]) (5.1.1)\n",
            "Requirement already satisfied: PyYAML>=3.10 in /usr/local/lib/python3.7/dist-packages (from bokeh->umap-learn[plot]) (3.13)\n",
            "Requirement already satisfied: pillow>=7.1.0 in /usr/local/lib/python3.7/dist-packages (from bokeh->umap-learn[plot]) (7.1.2)\n",
            "Requirement already satisfied: packaging>=16.8 in /usr/local/lib/python3.7/dist-packages (from bokeh->umap-learn[plot]) (21.0)\n",
            "Requirement already satisfied: python-dateutil>=2.1 in /usr/local/lib/python3.7/dist-packages (from bokeh->umap-learn[plot]) (2.8.2)\n",
            "Requirement already satisfied: MarkupSafe>=0.23 in /usr/local/lib/python3.7/dist-packages (from Jinja2>=2.9->bokeh->umap-learn[plot]) (2.0.1)\n",
            "Requirement already satisfied: pyparsing>=2.0.2 in /usr/local/lib/python3.7/dist-packages (from packaging>=16.8->bokeh->umap-learn[plot]) (2.4.7)\n",
            "Requirement already satisfied: six>=1.5 in /usr/local/lib/python3.7/dist-packages (from python-dateutil>=2.1->bokeh->umap-learn[plot]) (1.15.0)\n",
            "Requirement already satisfied: pyct>=0.4.4 in /usr/local/lib/python3.7/dist-packages (from colorcet->umap-learn[plot]) (0.4.8)\n",
            "Requirement already satisfied: param>=1.7.0 in /usr/local/lib/python3.7/dist-packages (from colorcet->umap-learn[plot]) (1.11.1)\n",
            "Collecting datashape>=0.5.1\n",
            "  Downloading datashape-0.5.2.tar.gz (76 kB)\n",
            "\u001b[K     |████████████████████████████████| 76 kB 4.9 MB/s \n",
            "\u001b[?25hRequirement already satisfied: dask[complete]>=0.18.0 in /usr/local/lib/python3.7/dist-packages (from datashader->umap-learn[plot]) (2.12.0)\n",
            "Requirement already satisfied: xarray>=0.9.6 in /usr/local/lib/python3.7/dist-packages (from datashader->umap-learn[plot]) (0.18.2)\n",
            "Collecting fsspec>=0.6.0\n",
            "  Downloading fsspec-2021.10.1-py3-none-any.whl (125 kB)\n",
            "\u001b[K     |████████████████████████████████| 125 kB 62.1 MB/s \n",
            "\u001b[?25hCollecting partd>=0.3.10\n",
            "  Downloading partd-1.2.0-py3-none-any.whl (19 kB)\n",
            "Collecting distributed>=2.0\n",
            "  Downloading distributed-2021.10.0-py3-none-any.whl (791 kB)\n",
            "\u001b[K     |████████████████████████████████| 791 kB 56.2 MB/s \n",
            "\u001b[?25hRequirement already satisfied: cloudpickle>=0.2.1 in /usr/local/lib/python3.7/dist-packages (from dask[complete]>=0.18.0->datashader->umap-learn[plot]) (1.3.0)\n",
            "Requirement already satisfied: toolz>=0.7.3 in /usr/local/lib/python3.7/dist-packages (from dask[complete]>=0.18.0->datashader->umap-learn[plot]) (0.11.1)\n",
            "Collecting multipledispatch>=0.4.7\n",
            "  Downloading multipledispatch-0.6.0-py3-none-any.whl (11 kB)\n",
            "Requirement already satisfied: msgpack>=0.6.0 in /usr/local/lib/python3.7/dist-packages (from distributed>=2.0->dask[complete]>=0.18.0->datashader->umap-learn[plot]) (1.0.2)\n",
            "Requirement already satisfied: click>=6.6 in /usr/local/lib/python3.7/dist-packages (from distributed>=2.0->dask[complete]>=0.18.0->datashader->umap-learn[plot]) (7.1.2)\n",
            "Collecting distributed>=2.0\n",
            "  Downloading distributed-2021.9.1-py3-none-any.whl (786 kB)\n",
            "\u001b[K     |████████████████████████████████| 786 kB 59.6 MB/s \n",
            "\u001b[?25hCollecting cloudpickle>=0.2.1\n",
            "  Downloading cloudpickle-2.0.0-py3-none-any.whl (25 kB)\n",
            "Requirement already satisfied: sortedcontainers!=2.0.0,!=2.0.1 in /usr/local/lib/python3.7/dist-packages (from distributed>=2.0->dask[complete]>=0.18.0->datashader->umap-learn[plot]) (2.4.0)\n",
            "Collecting distributed>=2.0\n",
            "  Downloading distributed-2021.9.0-py3-none-any.whl (779 kB)\n",
            "\u001b[K     |████████████████████████████████| 779 kB 58.8 MB/s \n",
            "\u001b[?25hRequirement already satisfied: tblib>=1.6.0 in /usr/local/lib/python3.7/dist-packages (from distributed>=2.0->dask[complete]>=0.18.0->datashader->umap-learn[plot]) (1.7.0)\n",
            "Requirement already satisfied: zict>=0.1.3 in /usr/local/lib/python3.7/dist-packages (from distributed>=2.0->dask[complete]>=0.18.0->datashader->umap-learn[plot]) (2.0.0)\n",
            "Requirement already satisfied: psutil>=5.0 in /usr/local/lib/python3.7/dist-packages (from distributed>=2.0->dask[complete]>=0.18.0->datashader->umap-learn[plot]) (5.4.8)\n",
            "  Downloading distributed-2021.8.1-py3-none-any.whl (778 kB)\n",
            "\u001b[K     |████████████████████████████████| 778 kB 66.6 MB/s \n",
            "\u001b[?25h  Downloading distributed-2021.8.0-py3-none-any.whl (776 kB)\n",
            "\u001b[K     |████████████████████████████████| 776 kB 49.1 MB/s \n",
            "\u001b[?25h  Downloading distributed-2021.7.2-py3-none-any.whl (769 kB)\n",
            "\u001b[K     |████████████████████████████████| 769 kB 58.1 MB/s \n",
            "\u001b[?25h  Downloading distributed-2021.7.1-py3-none-any.whl (766 kB)\n",
            "\u001b[K     |████████████████████████████████| 766 kB 57.4 MB/s \n",
            "\u001b[?25h  Downloading distributed-2021.7.0-py3-none-any.whl (1.0 MB)\n",
            "\u001b[K     |████████████████████████████████| 1.0 MB 59.4 MB/s \n",
            "\u001b[?25h  Downloading distributed-2021.6.2-py3-none-any.whl (722 kB)\n",
            "\u001b[K     |████████████████████████████████| 722 kB 45.4 MB/s \n",
            "\u001b[?25h  Downloading distributed-2021.6.1-py3-none-any.whl (722 kB)\n",
            "\u001b[K     |████████████████████████████████| 722 kB 44.2 MB/s \n",
            "\u001b[?25h  Downloading distributed-2021.6.0-py3-none-any.whl (715 kB)\n",
            "\u001b[K     |████████████████████████████████| 715 kB 75.5 MB/s \n",
            "\u001b[?25h  Downloading distributed-2021.5.1-py3-none-any.whl (705 kB)\n",
            "\u001b[K     |████████████████████████████████| 705 kB 55.5 MB/s \n",
            "\u001b[?25h  Downloading distributed-2021.5.0-py3-none-any.whl (699 kB)\n",
            "\u001b[K     |████████████████████████████████| 699 kB 45.4 MB/s \n",
            "\u001b[?25h  Downloading distributed-2021.4.1-py3-none-any.whl (696 kB)\n",
            "\u001b[K     |████████████████████████████████| 696 kB 62.0 MB/s \n",
            "\u001b[?25h  Downloading distributed-2021.4.0-py3-none-any.whl (684 kB)\n",
            "\u001b[K     |████████████████████████████████| 684 kB 60.7 MB/s \n",
            "\u001b[?25h  Downloading distributed-2021.3.1-py3-none-any.whl (679 kB)\n",
            "\u001b[K     |████████████████████████████████| 679 kB 58.8 MB/s \n",
            "\u001b[?25h  Downloading distributed-2021.3.0-py3-none-any.whl (675 kB)\n",
            "\u001b[K     |████████████████████████████████| 675 kB 52.5 MB/s \n",
            "\u001b[?25h  Downloading distributed-2021.2.0-py3-none-any.whl (675 kB)\n",
            "\u001b[K     |████████████████████████████████| 675 kB 46.6 MB/s \n",
            "\u001b[?25h  Downloading distributed-2021.1.1-py3-none-any.whl (672 kB)\n",
            "\u001b[K     |████████████████████████████████| 672 kB 59.9 MB/s \n",
            "\u001b[?25h  Downloading distributed-2021.1.0-py3-none-any.whl (671 kB)\n",
            "\u001b[K     |████████████████████████████████| 671 kB 57.3 MB/s \n",
            "\u001b[?25h  Downloading distributed-2020.12.0-py3-none-any.whl (669 kB)\n",
            "\u001b[K     |████████████████████████████████| 669 kB 39.4 MB/s \n",
            "\u001b[?25h  Downloading distributed-2.30.1-py3-none-any.whl (656 kB)\n",
            "\u001b[K     |████████████████████████████████| 656 kB 72.5 MB/s \n",
            "\u001b[?25hRequirement already satisfied: pytz>=2017.2 in /usr/local/lib/python3.7/dist-packages (from pandas->umap-learn[plot]) (2018.9)\n",
            "Collecting locket\n",
            "  Downloading locket-0.2.1-py2.py3-none-any.whl (4.1 kB)\n",
            "Requirement already satisfied: heapdict in /usr/local/lib/python3.7/dist-packages (from zict>=0.1.3->distributed>=2.0->dask[complete]>=0.18.0->datashader->umap-learn[plot]) (1.0.1)\n",
            "Requirement already satisfied: panel>=0.8.0 in /usr/local/lib/python3.7/dist-packages (from holoviews->umap-learn[plot]) (0.12.1)\n",
            "Requirement already satisfied: pyviz-comms>=0.7.4 in /usr/local/lib/python3.7/dist-packages (from holoviews->umap-learn[plot]) (2.1.0)\n",
            "Requirement already satisfied: requests in /usr/local/lib/python3.7/dist-packages (from panel>=0.8.0->holoviews->umap-learn[plot]) (2.23.0)\n",
            "Requirement already satisfied: bleach in /usr/local/lib/python3.7/dist-packages (from panel>=0.8.0->holoviews->umap-learn[plot]) (4.1.0)\n",
            "Requirement already satisfied: markdown in /usr/local/lib/python3.7/dist-packages (from panel>=0.8.0->holoviews->umap-learn[plot]) (3.3.4)\n",
            "Requirement already satisfied: webencodings in /usr/local/lib/python3.7/dist-packages (from bleach->panel>=0.8.0->holoviews->umap-learn[plot]) (0.5.1)\n",
            "Requirement already satisfied: importlib-metadata in /usr/local/lib/python3.7/dist-packages (from markdown->panel>=0.8.0->holoviews->umap-learn[plot]) (4.8.1)\n",
            "Requirement already satisfied: zipp>=0.5 in /usr/local/lib/python3.7/dist-packages (from importlib-metadata->markdown->panel>=0.8.0->holoviews->umap-learn[plot]) (3.6.0)\n",
            "Requirement already satisfied: kiwisolver>=1.0.1 in /usr/local/lib/python3.7/dist-packages (from matplotlib->umap-learn[plot]) (1.3.2)\n",
            "Requirement already satisfied: cycler>=0.10 in /usr/local/lib/python3.7/dist-packages (from matplotlib->umap-learn[plot]) (0.10.0)\n",
            "Requirement already satisfied: urllib3!=1.25.0,!=1.25.1,<1.26,>=1.21.1 in /usr/local/lib/python3.7/dist-packages (from requests->panel>=0.8.0->holoviews->umap-learn[plot]) (1.24.3)\n",
            "Requirement already satisfied: certifi>=2017.4.17 in /usr/local/lib/python3.7/dist-packages (from requests->panel>=0.8.0->holoviews->umap-learn[plot]) (2021.5.30)\n",
            "Requirement already satisfied: chardet<4,>=3.0.2 in /usr/local/lib/python3.7/dist-packages (from requests->panel>=0.8.0->holoviews->umap-learn[plot]) (3.0.4)\n",
            "Requirement already satisfied: idna<3,>=2.5 in /usr/local/lib/python3.7/dist-packages (from requests->panel>=0.8.0->holoviews->umap-learn[plot]) (2.10)\n",
            "Requirement already satisfied: imageio>=2.3.0 in /usr/local/lib/python3.7/dist-packages (from scikit-image->umap-learn[plot]) (2.4.1)\n",
            "Requirement already satisfied: networkx>=2.0 in /usr/local/lib/python3.7/dist-packages (from scikit-image->umap-learn[plot]) (2.6.3)\n",
            "Requirement already satisfied: PyWavelets>=0.4.0 in /usr/local/lib/python3.7/dist-packages (from scikit-image->umap-learn[plot]) (1.1.1)\n",
            "Building wheels for collected packages: umap-learn, pynndescent, datashape\n",
            "  Building wheel for umap-learn (setup.py) ... \u001b[?25l\u001b[?25hdone\n",
            "  Created wheel for umap-learn: filename=umap_learn-0.5.2-py3-none-any.whl size=82709 sha256=3ab21a8ce786c850a8648cd1064e261d13843f1e490f67f98f03b3b33d3ea2e9\n",
            "  Stored in directory: /root/.cache/pip/wheels/84/1b/c6/aaf68a748122632967cef4dffef68224eb16798b6793257d82\n",
            "  Building wheel for pynndescent (setup.py) ... \u001b[?25l\u001b[?25hdone\n",
            "  Created wheel for pynndescent: filename=pynndescent-0.5.5-py3-none-any.whl size=52603 sha256=3fa31071b2512620fcef46e792c3c239e49336854f138e6c6c632113313f17c4\n",
            "  Stored in directory: /root/.cache/pip/wheels/af/e9/33/04db1436df0757c42fda8ea6796d7a8586e23c85fac355f476\n",
            "  Building wheel for datashape (setup.py) ... \u001b[?25l\u001b[?25hdone\n",
            "  Created wheel for datashape: filename=datashape-0.5.2-py3-none-any.whl size=59438 sha256=94e5fbc39b903e17b5b70d4895c24276afb3c1df08954ee2bf3e331db83fa785\n",
            "  Stored in directory: /root/.cache/pip/wheels/b5/b7/80/333a5c3312ed4cd54f5d5b869868c14e0c6002cb5c7238b52d\n",
            "Successfully built umap-learn pynndescent datashape\n",
            "Installing collected packages: locket, cloudpickle, partd, multipledispatch, fsspec, distributed, pynndescent, datashape, umap-learn, datashader\n",
            "  Attempting uninstall: cloudpickle\n",
            "    Found existing installation: cloudpickle 1.3.0\n",
            "    Uninstalling cloudpickle-1.3.0:\n",
            "      Successfully uninstalled cloudpickle-1.3.0\n",
            "  Attempting uninstall: distributed\n",
            "    Found existing installation: distributed 1.25.3\n",
            "    Uninstalling distributed-1.25.3:\n",
            "      Successfully uninstalled distributed-1.25.3\n",
            "\u001b[31mERROR: pip's dependency resolver does not currently take into account all the packages that are installed. This behaviour is the source of the following dependency conflicts.\n",
            "gym 0.17.3 requires cloudpickle<1.7.0,>=1.2.0, but you have cloudpickle 2.0.0 which is incompatible.\u001b[0m\n",
            "Successfully installed cloudpickle-2.0.0 datashader-0.13.0 datashape-0.5.2 distributed-2.30.1 fsspec-2021.10.1 locket-0.2.1 multipledispatch-0.6.0 partd-1.2.0 pynndescent-0.5.5 umap-learn-0.5.2\n"
          ]
        },
        {
          "output_type": "display_data",
          "data": {
            "application/vnd.colab-display-data+json": {
              "pip_warning": {
                "packages": [
                  "cloudpickle"
                ]
              }
            }
          },
          "metadata": {}
        },
        {
          "output_type": "stream",
          "name": "stdout",
          "text": [
            "Requirement already satisfied: holoviews in /usr/local/lib/python3.7/dist-packages (1.14.6)\n",
            "Requirement already satisfied: pandas>=0.20.0 in /usr/local/lib/python3.7/dist-packages (from holoviews) (1.1.5)\n",
            "Requirement already satisfied: pyviz-comms>=0.7.4 in /usr/local/lib/python3.7/dist-packages (from holoviews) (2.1.0)\n",
            "Requirement already satisfied: param<2.0,>=1.9.3 in /usr/local/lib/python3.7/dist-packages (from holoviews) (1.11.1)\n",
            "Requirement already satisfied: panel>=0.8.0 in /usr/local/lib/python3.7/dist-packages (from holoviews) (0.12.1)\n",
            "Requirement already satisfied: numpy>=1.0 in /usr/local/lib/python3.7/dist-packages (from holoviews) (1.19.5)\n",
            "Requirement already satisfied: colorcet in /usr/local/lib/python3.7/dist-packages (from holoviews) (2.0.6)\n",
            "Requirement already satisfied: pytz>=2017.2 in /usr/local/lib/python3.7/dist-packages (from pandas>=0.20.0->holoviews) (2018.9)\n",
            "Requirement already satisfied: python-dateutil>=2.7.3 in /usr/local/lib/python3.7/dist-packages (from pandas>=0.20.0->holoviews) (2.8.2)\n",
            "Requirement already satisfied: requests in /usr/local/lib/python3.7/dist-packages (from panel>=0.8.0->holoviews) (2.23.0)\n",
            "Requirement already satisfied: tqdm>=4.48.0 in /usr/local/lib/python3.7/dist-packages (from panel>=0.8.0->holoviews) (4.62.3)\n",
            "Requirement already satisfied: pyct>=0.4.4 in /usr/local/lib/python3.7/dist-packages (from panel>=0.8.0->holoviews) (0.4.8)\n",
            "Requirement already satisfied: bleach in /usr/local/lib/python3.7/dist-packages (from panel>=0.8.0->holoviews) (4.1.0)\n",
            "Requirement already satisfied: markdown in /usr/local/lib/python3.7/dist-packages (from panel>=0.8.0->holoviews) (3.3.4)\n",
            "Requirement already satisfied: bokeh<2.4.0,>=2.3.0 in /usr/local/lib/python3.7/dist-packages (from panel>=0.8.0->holoviews) (2.3.3)\n",
            "Requirement already satisfied: packaging>=16.8 in /usr/local/lib/python3.7/dist-packages (from bokeh<2.4.0,>=2.3.0->panel>=0.8.0->holoviews) (21.0)\n",
            "Requirement already satisfied: Jinja2>=2.9 in /usr/local/lib/python3.7/dist-packages (from bokeh<2.4.0,>=2.3.0->panel>=0.8.0->holoviews) (2.11.3)\n",
            "Requirement already satisfied: pillow>=7.1.0 in /usr/local/lib/python3.7/dist-packages (from bokeh<2.4.0,>=2.3.0->panel>=0.8.0->holoviews) (7.1.2)\n",
            "Requirement already satisfied: PyYAML>=3.10 in /usr/local/lib/python3.7/dist-packages (from bokeh<2.4.0,>=2.3.0->panel>=0.8.0->holoviews) (3.13)\n",
            "Requirement already satisfied: tornado>=5.1 in /usr/local/lib/python3.7/dist-packages (from bokeh<2.4.0,>=2.3.0->panel>=0.8.0->holoviews) (5.1.1)\n",
            "Requirement already satisfied: typing-extensions>=3.7.4 in /usr/local/lib/python3.7/dist-packages (from bokeh<2.4.0,>=2.3.0->panel>=0.8.0->holoviews) (3.7.4.3)\n",
            "Requirement already satisfied: MarkupSafe>=0.23 in /usr/local/lib/python3.7/dist-packages (from Jinja2>=2.9->bokeh<2.4.0,>=2.3.0->panel>=0.8.0->holoviews) (2.0.1)\n",
            "Requirement already satisfied: pyparsing>=2.0.2 in /usr/local/lib/python3.7/dist-packages (from packaging>=16.8->bokeh<2.4.0,>=2.3.0->panel>=0.8.0->holoviews) (2.4.7)\n",
            "Requirement already satisfied: six>=1.5 in /usr/local/lib/python3.7/dist-packages (from python-dateutil>=2.7.3->pandas>=0.20.0->holoviews) (1.15.0)\n",
            "Requirement already satisfied: webencodings in /usr/local/lib/python3.7/dist-packages (from bleach->panel>=0.8.0->holoviews) (0.5.1)\n",
            "Requirement already satisfied: importlib-metadata in /usr/local/lib/python3.7/dist-packages (from markdown->panel>=0.8.0->holoviews) (4.8.1)\n",
            "Requirement already satisfied: zipp>=0.5 in /usr/local/lib/python3.7/dist-packages (from importlib-metadata->markdown->panel>=0.8.0->holoviews) (3.6.0)\n",
            "Requirement already satisfied: certifi>=2017.4.17 in /usr/local/lib/python3.7/dist-packages (from requests->panel>=0.8.0->holoviews) (2021.5.30)\n",
            "Requirement already satisfied: chardet<4,>=3.0.2 in /usr/local/lib/python3.7/dist-packages (from requests->panel>=0.8.0->holoviews) (3.0.4)\n",
            "Requirement already satisfied: idna<3,>=2.5 in /usr/local/lib/python3.7/dist-packages (from requests->panel>=0.8.0->holoviews) (2.10)\n",
            "Requirement already satisfied: urllib3!=1.25.0,!=1.25.1,<1.26,>=1.21.1 in /usr/local/lib/python3.7/dist-packages (from requests->panel>=0.8.0->holoviews) (1.24.3)\n",
            "Requirement already satisfied: ipykernel in /usr/local/lib/python3.7/dist-packages (4.10.1)\n",
            "Collecting ipykernel\n",
            "  Downloading ipykernel-6.5.0-py3-none-any.whl (125 kB)\n",
            "\u001b[K     |████████████████████████████████| 125 kB 3.2 MB/s \n",
            "\u001b[?25hRequirement already satisfied: tornado<7.0,>=4.2 in /usr/local/lib/python3.7/dist-packages (from ipykernel) (5.1.1)\n",
            "Collecting ipython<8.0,>=7.23.1\n",
            "  Downloading ipython-7.29.0-py3-none-any.whl (790 kB)\n",
            "\u001b[K     |████████████████████████████████| 790 kB 29.9 MB/s \n",
            "\u001b[?25hRequirement already satisfied: matplotlib-inline<0.2.0,>=0.1.0 in /usr/local/lib/python3.7/dist-packages (from ipykernel) (0.1.3)\n",
            "Requirement already satisfied: importlib-metadata<5 in /usr/local/lib/python3.7/dist-packages (from ipykernel) (4.8.1)\n",
            "Requirement already satisfied: jupyter-client<8.0 in /usr/local/lib/python3.7/dist-packages (from ipykernel) (5.3.5)\n",
            "Requirement already satisfied: debugpy<2.0,>=1.0.0 in /usr/local/lib/python3.7/dist-packages (from ipykernel) (1.0.0)\n",
            "Requirement already satisfied: traitlets<6.0,>=5.1.0 in /usr/local/lib/python3.7/dist-packages (from ipykernel) (5.1.0)\n",
            "Requirement already satisfied: argcomplete>=1.12.3 in /usr/local/lib/python3.7/dist-packages (from ipykernel) (1.12.3)\n",
            "Requirement already satisfied: typing-extensions>=3.6.4 in /usr/local/lib/python3.7/dist-packages (from importlib-metadata<5->ipykernel) (3.7.4.3)\n",
            "Requirement already satisfied: zipp>=0.5 in /usr/local/lib/python3.7/dist-packages (from importlib-metadata<5->ipykernel) (3.6.0)\n",
            "Requirement already satisfied: jedi>=0.16 in /usr/local/lib/python3.7/dist-packages (from ipython<8.0,>=7.23.1->ipykernel) (0.18.0)\n",
            "Requirement already satisfied: decorator in /usr/local/lib/python3.7/dist-packages (from ipython<8.0,>=7.23.1->ipykernel) (4.4.2)\n",
            "Requirement already satisfied: pexpect>4.3 in /usr/local/lib/python3.7/dist-packages (from ipython<8.0,>=7.23.1->ipykernel) (4.8.0)\n",
            "Requirement already satisfied: pygments in /usr/local/lib/python3.7/dist-packages (from ipython<8.0,>=7.23.1->ipykernel) (2.6.1)\n",
            "Requirement already satisfied: setuptools>=18.5 in /usr/local/lib/python3.7/dist-packages (from ipython<8.0,>=7.23.1->ipykernel) (57.4.0)\n",
            "Requirement already satisfied: backcall in /usr/local/lib/python3.7/dist-packages (from ipython<8.0,>=7.23.1->ipykernel) (0.2.0)\n",
            "Collecting prompt-toolkit!=3.0.0,!=3.0.1,<3.1.0,>=2.0.0\n",
            "  Downloading prompt_toolkit-3.0.21-py3-none-any.whl (374 kB)\n",
            "\u001b[K     |████████████████████████████████| 374 kB 42.5 MB/s \n",
            "\u001b[?25hRequirement already satisfied: pickleshare in /usr/local/lib/python3.7/dist-packages (from ipython<8.0,>=7.23.1->ipykernel) (0.7.5)\n",
            "Requirement already satisfied: parso<0.9.0,>=0.8.0 in /usr/local/lib/python3.7/dist-packages (from jedi>=0.16->ipython<8.0,>=7.23.1->ipykernel) (0.8.2)\n",
            "Requirement already satisfied: python-dateutil>=2.1 in /usr/local/lib/python3.7/dist-packages (from jupyter-client<8.0->ipykernel) (2.8.2)\n",
            "Requirement already satisfied: pyzmq>=13 in /usr/local/lib/python3.7/dist-packages (from jupyter-client<8.0->ipykernel) (22.3.0)\n",
            "Requirement already satisfied: jupyter-core>=4.6.0 in /usr/local/lib/python3.7/dist-packages (from jupyter-client<8.0->ipykernel) (4.8.1)\n",
            "Requirement already satisfied: ptyprocess>=0.5 in /usr/local/lib/python3.7/dist-packages (from pexpect>4.3->ipython<8.0,>=7.23.1->ipykernel) (0.7.0)\n",
            "Requirement already satisfied: wcwidth in /usr/local/lib/python3.7/dist-packages (from prompt-toolkit!=3.0.0,!=3.0.1,<3.1.0,>=2.0.0->ipython<8.0,>=7.23.1->ipykernel) (0.2.5)\n",
            "Requirement already satisfied: six>=1.5 in /usr/local/lib/python3.7/dist-packages (from python-dateutil>=2.1->jupyter-client<8.0->ipykernel) (1.15.0)\n",
            "Installing collected packages: prompt-toolkit, ipython, ipykernel\n",
            "  Attempting uninstall: prompt-toolkit\n",
            "    Found existing installation: prompt-toolkit 1.0.18\n",
            "    Uninstalling prompt-toolkit-1.0.18:\n",
            "      Successfully uninstalled prompt-toolkit-1.0.18\n",
            "  Attempting uninstall: ipython\n",
            "    Found existing installation: ipython 5.5.0\n",
            "    Uninstalling ipython-5.5.0:\n",
            "      Successfully uninstalled ipython-5.5.0\n",
            "  Attempting uninstall: ipykernel\n",
            "    Found existing installation: ipykernel 4.10.1\n",
            "    Uninstalling ipykernel-4.10.1:\n",
            "      Successfully uninstalled ipykernel-4.10.1\n",
            "\u001b[31mERROR: pip's dependency resolver does not currently take into account all the packages that are installed. This behaviour is the source of the following dependency conflicts.\n",
            "jupyter-console 5.2.0 requires prompt-toolkit<2.0.0,>=1.0.0, but you have prompt-toolkit 3.0.21 which is incompatible.\n",
            "google-colab 1.0.0 requires ipykernel~=4.10, but you have ipykernel 6.5.0 which is incompatible.\n",
            "google-colab 1.0.0 requires ipython~=5.5.0, but you have ipython 7.29.0 which is incompatible.\u001b[0m\n",
            "Successfully installed ipykernel-6.5.0 ipython-7.29.0 prompt-toolkit-3.0.21\n"
          ]
        },
        {
          "output_type": "display_data",
          "data": {
            "application/vnd.colab-display-data+json": {
              "pip_warning": {
                "packages": [
                  "IPython",
                  "ipykernel",
                  "prompt_toolkit"
                ]
              }
            }
          },
          "metadata": {}
        }
      ]
    },
    {
      "cell_type": "code",
      "metadata": {
        "colab": {
          "resources": {
            "http://localhost:8080/nbextensions/google.colab/files.js": {
              "data": "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",
              "ok": true,
              "headers": [
                [
                  "content-type",
                  "application/javascript"
                ]
              ],
              "status": 200,
              "status_text": ""
            }
          },
          "base_uri": "https://localhost:8080/",
          "height": 72
        },
        "id": "qzGG9jTrw7a_",
        "outputId": "bb2ce6d7-3471-4bfd-c24d-f67ea23a125a"
      },
      "source": [
        "from google.colab import files\n",
        "uploaded=files.upload()"
      ],
      "execution_count": 4,
      "outputs": [
        {
          "output_type": "display_data",
          "data": {
            "text/html": [
              "\n",
              "     <input type=\"file\" id=\"files-1075514b-9a64-4b3e-8844-e2439c4b3f7a\" name=\"files[]\" multiple disabled\n",
              "        style=\"border:none\" />\n",
              "     <output id=\"result-1075514b-9a64-4b3e-8844-e2439c4b3f7a\">\n",
              "      Upload widget is only available when the cell has been executed in the\n",
              "      current browser session. Please rerun this cell to enable.\n",
              "      </output>\n",
              "      <script src=\"/nbextensions/google.colab/files.js\"></script> "
            ],
            "text/plain": [
              "<IPython.core.display.HTML object>"
            ]
          },
          "metadata": {}
        },
        {
          "output_type": "stream",
          "name": "stdout",
          "text": [
            "Saving Wine.csv to Wine.csv\n"
          ]
        }
      ]
    },
    {
      "cell_type": "code",
      "metadata": {
        "colab": {
          "base_uri": "https://localhost:8080/"
        },
        "id": "U3Sj1X4exQDn",
        "outputId": "813f64b9-594a-4bcf-e8a4-7c39dea1ace6"
      },
      "source": [
        "df=pd.read_csv('Wine.csv')\n",
        "df.shape"
      ],
      "execution_count": 5,
      "outputs": [
        {
          "output_type": "execute_result",
          "data": {
            "text/plain": [
              "(178, 14)"
            ]
          },
          "metadata": {},
          "execution_count": 5
        }
      ]
    },
    {
      "cell_type": "code",
      "metadata": {
        "colab": {
          "base_uri": "https://localhost:8080/",
          "height": 317
        },
        "id": "mYsun3PIxpcS",
        "outputId": "f441ddea-d445-4fa3-931e-7af8ae40b1bc"
      },
      "source": [
        "df.describe()"
      ],
      "execution_count": 6,
      "outputs": [
        {
          "output_type": "execute_result",
          "data": {
            "text/html": [
              "<div>\n",
              "<style scoped>\n",
              "    .dataframe tbody tr th:only-of-type {\n",
              "        vertical-align: middle;\n",
              "    }\n",
              "\n",
              "    .dataframe tbody tr th {\n",
              "        vertical-align: top;\n",
              "    }\n",
              "\n",
              "    .dataframe thead th {\n",
              "        text-align: right;\n",
              "    }\n",
              "</style>\n",
              "<table border=\"1\" class=\"dataframe\">\n",
              "  <thead>\n",
              "    <tr style=\"text-align: right;\">\n",
              "      <th></th>\n",
              "      <th>class</th>\n",
              "      <th>alcohol</th>\n",
              "      <th>malic_acid</th>\n",
              "      <th>ash</th>\n",
              "      <th>alcalinity_of_ash</th>\n",
              "      <th>magnesium</th>\n",
              "      <th>total_phenols</th>\n",
              "      <th>flavanoids</th>\n",
              "      <th>nonflavanoid_phenols</th>\n",
              "      <th>proanthocyanins</th>\n",
              "      <th>color_intensity</th>\n",
              "      <th>hue</th>\n",
              "      <th>od280/od315_of_diluted_wines</th>\n",
              "      <th>proline</th>\n",
              "    </tr>\n",
              "  </thead>\n",
              "  <tbody>\n",
              "    <tr>\n",
              "      <th>count</th>\n",
              "      <td>178.000000</td>\n",
              "      <td>178.000000</td>\n",
              "      <td>178.000000</td>\n",
              "      <td>178.000000</td>\n",
              "      <td>178.000000</td>\n",
              "      <td>178.000000</td>\n",
              "      <td>178.000000</td>\n",
              "      <td>178.000000</td>\n",
              "      <td>178.000000</td>\n",
              "      <td>178.000000</td>\n",
              "      <td>178.000000</td>\n",
              "      <td>178.000000</td>\n",
              "      <td>178.000000</td>\n",
              "      <td>178.000000</td>\n",
              "    </tr>\n",
              "    <tr>\n",
              "      <th>mean</th>\n",
              "      <td>1.938202</td>\n",
              "      <td>13.000618</td>\n",
              "      <td>2.336348</td>\n",
              "      <td>2.366517</td>\n",
              "      <td>19.494944</td>\n",
              "      <td>99.741573</td>\n",
              "      <td>2.295112</td>\n",
              "      <td>2.029270</td>\n",
              "      <td>0.361854</td>\n",
              "      <td>1.590899</td>\n",
              "      <td>5.058090</td>\n",
              "      <td>0.957449</td>\n",
              "      <td>2.611685</td>\n",
              "      <td>746.893258</td>\n",
              "    </tr>\n",
              "    <tr>\n",
              "      <th>std</th>\n",
              "      <td>0.775035</td>\n",
              "      <td>0.811827</td>\n",
              "      <td>1.117146</td>\n",
              "      <td>0.274344</td>\n",
              "      <td>3.339564</td>\n",
              "      <td>14.282484</td>\n",
              "      <td>0.625851</td>\n",
              "      <td>0.998859</td>\n",
              "      <td>0.124453</td>\n",
              "      <td>0.572359</td>\n",
              "      <td>2.318286</td>\n",
              "      <td>0.228572</td>\n",
              "      <td>0.709990</td>\n",
              "      <td>314.907474</td>\n",
              "    </tr>\n",
              "    <tr>\n",
              "      <th>min</th>\n",
              "      <td>1.000000</td>\n",
              "      <td>11.030000</td>\n",
              "      <td>0.740000</td>\n",
              "      <td>1.360000</td>\n",
              "      <td>10.600000</td>\n",
              "      <td>70.000000</td>\n",
              "      <td>0.980000</td>\n",
              "      <td>0.340000</td>\n",
              "      <td>0.130000</td>\n",
              "      <td>0.410000</td>\n",
              "      <td>1.280000</td>\n",
              "      <td>0.480000</td>\n",
              "      <td>1.270000</td>\n",
              "      <td>278.000000</td>\n",
              "    </tr>\n",
              "    <tr>\n",
              "      <th>25%</th>\n",
              "      <td>1.000000</td>\n",
              "      <td>12.362500</td>\n",
              "      <td>1.602500</td>\n",
              "      <td>2.210000</td>\n",
              "      <td>17.200000</td>\n",
              "      <td>88.000000</td>\n",
              "      <td>1.742500</td>\n",
              "      <td>1.205000</td>\n",
              "      <td>0.270000</td>\n",
              "      <td>1.250000</td>\n",
              "      <td>3.220000</td>\n",
              "      <td>0.782500</td>\n",
              "      <td>1.937500</td>\n",
              "      <td>500.500000</td>\n",
              "    </tr>\n",
              "    <tr>\n",
              "      <th>50%</th>\n",
              "      <td>2.000000</td>\n",
              "      <td>13.050000</td>\n",
              "      <td>1.865000</td>\n",
              "      <td>2.360000</td>\n",
              "      <td>19.500000</td>\n",
              "      <td>98.000000</td>\n",
              "      <td>2.355000</td>\n",
              "      <td>2.135000</td>\n",
              "      <td>0.340000</td>\n",
              "      <td>1.555000</td>\n",
              "      <td>4.690000</td>\n",
              "      <td>0.965000</td>\n",
              "      <td>2.780000</td>\n",
              "      <td>673.500000</td>\n",
              "    </tr>\n",
              "    <tr>\n",
              "      <th>75%</th>\n",
              "      <td>3.000000</td>\n",
              "      <td>13.677500</td>\n",
              "      <td>3.082500</td>\n",
              "      <td>2.557500</td>\n",
              "      <td>21.500000</td>\n",
              "      <td>107.000000</td>\n",
              "      <td>2.800000</td>\n",
              "      <td>2.875000</td>\n",
              "      <td>0.437500</td>\n",
              "      <td>1.950000</td>\n",
              "      <td>6.200000</td>\n",
              "      <td>1.120000</td>\n",
              "      <td>3.170000</td>\n",
              "      <td>985.000000</td>\n",
              "    </tr>\n",
              "    <tr>\n",
              "      <th>max</th>\n",
              "      <td>3.000000</td>\n",
              "      <td>14.830000</td>\n",
              "      <td>5.800000</td>\n",
              "      <td>3.230000</td>\n",
              "      <td>30.000000</td>\n",
              "      <td>162.000000</td>\n",
              "      <td>3.880000</td>\n",
              "      <td>5.080000</td>\n",
              "      <td>0.660000</td>\n",
              "      <td>3.580000</td>\n",
              "      <td>13.000000</td>\n",
              "      <td>1.710000</td>\n",
              "      <td>4.000000</td>\n",
              "      <td>1680.000000</td>\n",
              "    </tr>\n",
              "  </tbody>\n",
              "</table>\n",
              "</div>"
            ],
            "text/plain": [
              "            class     alcohol  ...  od280/od315_of_diluted_wines      proline\n",
              "count  178.000000  178.000000  ...                    178.000000   178.000000\n",
              "mean     1.938202   13.000618  ...                      2.611685   746.893258\n",
              "std      0.775035    0.811827  ...                      0.709990   314.907474\n",
              "min      1.000000   11.030000  ...                      1.270000   278.000000\n",
              "25%      1.000000   12.362500  ...                      1.937500   500.500000\n",
              "50%      2.000000   13.050000  ...                      2.780000   673.500000\n",
              "75%      3.000000   13.677500  ...                      3.170000   985.000000\n",
              "max      3.000000   14.830000  ...                      4.000000  1680.000000\n",
              "\n",
              "[8 rows x 14 columns]"
            ]
          },
          "metadata": {},
          "execution_count": 6
        }
      ]
    },
    {
      "cell_type": "code",
      "metadata": {
        "colab": {
          "base_uri": "https://localhost:8080/",
          "height": 224
        },
        "id": "xfRPJrXSxzXg",
        "outputId": "87bb01ec-27e3-4516-f3cd-2661d47ce6e3"
      },
      "source": [
        "df.head()"
      ],
      "execution_count": 7,
      "outputs": [
        {
          "output_type": "execute_result",
          "data": {
            "text/html": [
              "<div>\n",
              "<style scoped>\n",
              "    .dataframe tbody tr th:only-of-type {\n",
              "        vertical-align: middle;\n",
              "    }\n",
              "\n",
              "    .dataframe tbody tr th {\n",
              "        vertical-align: top;\n",
              "    }\n",
              "\n",
              "    .dataframe thead th {\n",
              "        text-align: right;\n",
              "    }\n",
              "</style>\n",
              "<table border=\"1\" class=\"dataframe\">\n",
              "  <thead>\n",
              "    <tr style=\"text-align: right;\">\n",
              "      <th></th>\n",
              "      <th>class</th>\n",
              "      <th>alcohol</th>\n",
              "      <th>malic_acid</th>\n",
              "      <th>ash</th>\n",
              "      <th>alcalinity_of_ash</th>\n",
              "      <th>magnesium</th>\n",
              "      <th>total_phenols</th>\n",
              "      <th>flavanoids</th>\n",
              "      <th>nonflavanoid_phenols</th>\n",
              "      <th>proanthocyanins</th>\n",
              "      <th>color_intensity</th>\n",
              "      <th>hue</th>\n",
              "      <th>od280/od315_of_diluted_wines</th>\n",
              "      <th>proline</th>\n",
              "    </tr>\n",
              "  </thead>\n",
              "  <tbody>\n",
              "    <tr>\n",
              "      <th>0</th>\n",
              "      <td>1</td>\n",
              "      <td>14.23</td>\n",
              "      <td>1.71</td>\n",
              "      <td>2.43</td>\n",
              "      <td>15.6</td>\n",
              "      <td>127</td>\n",
              "      <td>2.80</td>\n",
              "      <td>3.06</td>\n",
              "      <td>0.28</td>\n",
              "      <td>2.29</td>\n",
              "      <td>5.64</td>\n",
              "      <td>1.04</td>\n",
              "      <td>3.92</td>\n",
              "      <td>1065</td>\n",
              "    </tr>\n",
              "    <tr>\n",
              "      <th>1</th>\n",
              "      <td>1</td>\n",
              "      <td>13.20</td>\n",
              "      <td>1.78</td>\n",
              "      <td>2.14</td>\n",
              "      <td>11.2</td>\n",
              "      <td>100</td>\n",
              "      <td>2.65</td>\n",
              "      <td>2.76</td>\n",
              "      <td>0.26</td>\n",
              "      <td>1.28</td>\n",
              "      <td>4.38</td>\n",
              "      <td>1.05</td>\n",
              "      <td>3.40</td>\n",
              "      <td>1050</td>\n",
              "    </tr>\n",
              "    <tr>\n",
              "      <th>2</th>\n",
              "      <td>1</td>\n",
              "      <td>13.16</td>\n",
              "      <td>2.36</td>\n",
              "      <td>2.67</td>\n",
              "      <td>18.6</td>\n",
              "      <td>101</td>\n",
              "      <td>2.80</td>\n",
              "      <td>3.24</td>\n",
              "      <td>0.30</td>\n",
              "      <td>2.81</td>\n",
              "      <td>5.68</td>\n",
              "      <td>1.03</td>\n",
              "      <td>3.17</td>\n",
              "      <td>1185</td>\n",
              "    </tr>\n",
              "    <tr>\n",
              "      <th>3</th>\n",
              "      <td>1</td>\n",
              "      <td>14.37</td>\n",
              "      <td>1.95</td>\n",
              "      <td>2.50</td>\n",
              "      <td>16.8</td>\n",
              "      <td>113</td>\n",
              "      <td>3.85</td>\n",
              "      <td>3.49</td>\n",
              "      <td>0.24</td>\n",
              "      <td>2.18</td>\n",
              "      <td>7.80</td>\n",
              "      <td>0.86</td>\n",
              "      <td>3.45</td>\n",
              "      <td>1480</td>\n",
              "    </tr>\n",
              "    <tr>\n",
              "      <th>4</th>\n",
              "      <td>1</td>\n",
              "      <td>13.24</td>\n",
              "      <td>2.59</td>\n",
              "      <td>2.87</td>\n",
              "      <td>21.0</td>\n",
              "      <td>118</td>\n",
              "      <td>2.80</td>\n",
              "      <td>2.69</td>\n",
              "      <td>0.39</td>\n",
              "      <td>1.82</td>\n",
              "      <td>4.32</td>\n",
              "      <td>1.04</td>\n",
              "      <td>2.93</td>\n",
              "      <td>735</td>\n",
              "    </tr>\n",
              "  </tbody>\n",
              "</table>\n",
              "</div>"
            ],
            "text/plain": [
              "   class  alcohol  malic_acid  ...   hue  od280/od315_of_diluted_wines  proline\n",
              "0      1    14.23        1.71  ...  1.04                          3.92     1065\n",
              "1      1    13.20        1.78  ...  1.05                          3.40     1050\n",
              "2      1    13.16        2.36  ...  1.03                          3.17     1185\n",
              "3      1    14.37        1.95  ...  0.86                          3.45     1480\n",
              "4      1    13.24        2.59  ...  1.04                          2.93      735\n",
              "\n",
              "[5 rows x 14 columns]"
            ]
          },
          "metadata": {},
          "execution_count": 7
        }
      ]
    },
    {
      "cell_type": "code",
      "metadata": {
        "id": "JGngaCpYx3H9"
      },
      "source": [
        "x_Variables=df.iloc[:,1:14]"
      ],
      "execution_count": 8,
      "outputs": []
    },
    {
      "cell_type": "code",
      "metadata": {
        "colab": {
          "base_uri": "https://localhost:8080/",
          "height": 439
        },
        "id": "mAvwuc9RzHue",
        "outputId": "bb14a0f2-1a64-4b21-d358-a2ca796ffc22"
      },
      "source": [
        "x_Variables"
      ],
      "execution_count": 9,
      "outputs": [
        {
          "output_type": "execute_result",
          "data": {
            "text/html": [
              "<div>\n",
              "<style scoped>\n",
              "    .dataframe tbody tr th:only-of-type {\n",
              "        vertical-align: middle;\n",
              "    }\n",
              "\n",
              "    .dataframe tbody tr th {\n",
              "        vertical-align: top;\n",
              "    }\n",
              "\n",
              "    .dataframe thead th {\n",
              "        text-align: right;\n",
              "    }\n",
              "</style>\n",
              "<table border=\"1\" class=\"dataframe\">\n",
              "  <thead>\n",
              "    <tr style=\"text-align: right;\">\n",
              "      <th></th>\n",
              "      <th>alcohol</th>\n",
              "      <th>malic_acid</th>\n",
              "      <th>ash</th>\n",
              "      <th>alcalinity_of_ash</th>\n",
              "      <th>magnesium</th>\n",
              "      <th>total_phenols</th>\n",
              "      <th>flavanoids</th>\n",
              "      <th>nonflavanoid_phenols</th>\n",
              "      <th>proanthocyanins</th>\n",
              "      <th>color_intensity</th>\n",
              "      <th>hue</th>\n",
              "      <th>od280/od315_of_diluted_wines</th>\n",
              "      <th>proline</th>\n",
              "    </tr>\n",
              "  </thead>\n",
              "  <tbody>\n",
              "    <tr>\n",
              "      <th>0</th>\n",
              "      <td>14.23</td>\n",
              "      <td>1.71</td>\n",
              "      <td>2.43</td>\n",
              "      <td>15.6</td>\n",
              "      <td>127</td>\n",
              "      <td>2.80</td>\n",
              "      <td>3.06</td>\n",
              "      <td>0.28</td>\n",
              "      <td>2.29</td>\n",
              "      <td>5.64</td>\n",
              "      <td>1.04</td>\n",
              "      <td>3.92</td>\n",
              "      <td>1065</td>\n",
              "    </tr>\n",
              "    <tr>\n",
              "      <th>1</th>\n",
              "      <td>13.20</td>\n",
              "      <td>1.78</td>\n",
              "      <td>2.14</td>\n",
              "      <td>11.2</td>\n",
              "      <td>100</td>\n",
              "      <td>2.65</td>\n",
              "      <td>2.76</td>\n",
              "      <td>0.26</td>\n",
              "      <td>1.28</td>\n",
              "      <td>4.38</td>\n",
              "      <td>1.05</td>\n",
              "      <td>3.40</td>\n",
              "      <td>1050</td>\n",
              "    </tr>\n",
              "    <tr>\n",
              "      <th>2</th>\n",
              "      <td>13.16</td>\n",
              "      <td>2.36</td>\n",
              "      <td>2.67</td>\n",
              "      <td>18.6</td>\n",
              "      <td>101</td>\n",
              "      <td>2.80</td>\n",
              "      <td>3.24</td>\n",
              "      <td>0.30</td>\n",
              "      <td>2.81</td>\n",
              "      <td>5.68</td>\n",
              "      <td>1.03</td>\n",
              "      <td>3.17</td>\n",
              "      <td>1185</td>\n",
              "    </tr>\n",
              "    <tr>\n",
              "      <th>3</th>\n",
              "      <td>14.37</td>\n",
              "      <td>1.95</td>\n",
              "      <td>2.50</td>\n",
              "      <td>16.8</td>\n",
              "      <td>113</td>\n",
              "      <td>3.85</td>\n",
              "      <td>3.49</td>\n",
              "      <td>0.24</td>\n",
              "      <td>2.18</td>\n",
              "      <td>7.80</td>\n",
              "      <td>0.86</td>\n",
              "      <td>3.45</td>\n",
              "      <td>1480</td>\n",
              "    </tr>\n",
              "    <tr>\n",
              "      <th>4</th>\n",
              "      <td>13.24</td>\n",
              "      <td>2.59</td>\n",
              "      <td>2.87</td>\n",
              "      <td>21.0</td>\n",
              "      <td>118</td>\n",
              "      <td>2.80</td>\n",
              "      <td>2.69</td>\n",
              "      <td>0.39</td>\n",
              "      <td>1.82</td>\n",
              "      <td>4.32</td>\n",
              "      <td>1.04</td>\n",
              "      <td>2.93</td>\n",
              "      <td>735</td>\n",
              "    </tr>\n",
              "    <tr>\n",
              "      <th>...</th>\n",
              "      <td>...</td>\n",
              "      <td>...</td>\n",
              "      <td>...</td>\n",
              "      <td>...</td>\n",
              "      <td>...</td>\n",
              "      <td>...</td>\n",
              "      <td>...</td>\n",
              "      <td>...</td>\n",
              "      <td>...</td>\n",
              "      <td>...</td>\n",
              "      <td>...</td>\n",
              "      <td>...</td>\n",
              "      <td>...</td>\n",
              "    </tr>\n",
              "    <tr>\n",
              "      <th>173</th>\n",
              "      <td>13.71</td>\n",
              "      <td>5.65</td>\n",
              "      <td>2.45</td>\n",
              "      <td>20.5</td>\n",
              "      <td>95</td>\n",
              "      <td>1.68</td>\n",
              "      <td>0.61</td>\n",
              "      <td>0.52</td>\n",
              "      <td>1.06</td>\n",
              "      <td>7.70</td>\n",
              "      <td>0.64</td>\n",
              "      <td>1.74</td>\n",
              "      <td>740</td>\n",
              "    </tr>\n",
              "    <tr>\n",
              "      <th>174</th>\n",
              "      <td>13.40</td>\n",
              "      <td>3.91</td>\n",
              "      <td>2.48</td>\n",
              "      <td>23.0</td>\n",
              "      <td>102</td>\n",
              "      <td>1.80</td>\n",
              "      <td>0.75</td>\n",
              "      <td>0.43</td>\n",
              "      <td>1.41</td>\n",
              "      <td>7.30</td>\n",
              "      <td>0.70</td>\n",
              "      <td>1.56</td>\n",
              "      <td>750</td>\n",
              "    </tr>\n",
              "    <tr>\n",
              "      <th>175</th>\n",
              "      <td>13.27</td>\n",
              "      <td>4.28</td>\n",
              "      <td>2.26</td>\n",
              "      <td>20.0</td>\n",
              "      <td>120</td>\n",
              "      <td>1.59</td>\n",
              "      <td>0.69</td>\n",
              "      <td>0.43</td>\n",
              "      <td>1.35</td>\n",
              "      <td>10.20</td>\n",
              "      <td>0.59</td>\n",
              "      <td>1.56</td>\n",
              "      <td>835</td>\n",
              "    </tr>\n",
              "    <tr>\n",
              "      <th>176</th>\n",
              "      <td>13.17</td>\n",
              "      <td>2.59</td>\n",
              "      <td>2.37</td>\n",
              "      <td>20.0</td>\n",
              "      <td>120</td>\n",
              "      <td>1.65</td>\n",
              "      <td>0.68</td>\n",
              "      <td>0.53</td>\n",
              "      <td>1.46</td>\n",
              "      <td>9.30</td>\n",
              "      <td>0.60</td>\n",
              "      <td>1.62</td>\n",
              "      <td>840</td>\n",
              "    </tr>\n",
              "    <tr>\n",
              "      <th>177</th>\n",
              "      <td>14.13</td>\n",
              "      <td>4.10</td>\n",
              "      <td>2.74</td>\n",
              "      <td>24.5</td>\n",
              "      <td>96</td>\n",
              "      <td>2.05</td>\n",
              "      <td>0.76</td>\n",
              "      <td>0.56</td>\n",
              "      <td>1.35</td>\n",
              "      <td>9.20</td>\n",
              "      <td>0.61</td>\n",
              "      <td>1.60</td>\n",
              "      <td>560</td>\n",
              "    </tr>\n",
              "  </tbody>\n",
              "</table>\n",
              "<p>178 rows × 13 columns</p>\n",
              "</div>"
            ],
            "text/plain": [
              "     alcohol  malic_acid   ash  ...   hue  od280/od315_of_diluted_wines  proline\n",
              "0      14.23        1.71  2.43  ...  1.04                          3.92     1065\n",
              "1      13.20        1.78  2.14  ...  1.05                          3.40     1050\n",
              "2      13.16        2.36  2.67  ...  1.03                          3.17     1185\n",
              "3      14.37        1.95  2.50  ...  0.86                          3.45     1480\n",
              "4      13.24        2.59  2.87  ...  1.04                          2.93      735\n",
              "..       ...         ...   ...  ...   ...                           ...      ...\n",
              "173    13.71        5.65  2.45  ...  0.64                          1.74      740\n",
              "174    13.40        3.91  2.48  ...  0.70                          1.56      750\n",
              "175    13.27        4.28  2.26  ...  0.59                          1.56      835\n",
              "176    13.17        2.59  2.37  ...  0.60                          1.62      840\n",
              "177    14.13        4.10  2.74  ...  0.61                          1.60      560\n",
              "\n",
              "[178 rows x 13 columns]"
            ]
          },
          "metadata": {},
          "execution_count": 9
        }
      ]
    },
    {
      "cell_type": "code",
      "metadata": {
        "id": "UrKYAa_lzKwQ"
      },
      "source": [
        "X = StandardScaler().fit_transform(x_Variables)"
      ],
      "execution_count": 10,
      "outputs": []
    },
    {
      "cell_type": "code",
      "metadata": {
        "colab": {
          "base_uri": "https://localhost:8080/"
        },
        "id": "1wzjrVmBzZ_S",
        "outputId": "6368a4ad-019c-4c84-dd4f-c68f363c5d93"
      },
      "source": [
        "X.shape"
      ],
      "execution_count": 11,
      "outputs": [
        {
          "output_type": "execute_result",
          "data": {
            "text/plain": [
              "(178, 13)"
            ]
          },
          "metadata": {},
          "execution_count": 11
        }
      ]
    },
    {
      "cell_type": "code",
      "metadata": {
        "id": "zbuVbiwD0dAF"
      },
      "source": [
        "cov_matrix=np.cov(X.T)"
      ],
      "execution_count": 12,
      "outputs": []
    },
    {
      "cell_type": "code",
      "metadata": {
        "colab": {
          "base_uri": "https://localhost:8080/"
        },
        "id": "MxqTCxJc1adB",
        "outputId": "961131d4-67c4-40ba-bd12-54fbf37a4c26"
      },
      "source": [
        "cov_matrix"
      ],
      "execution_count": 13,
      "outputs": [
        {
          "output_type": "execute_result",
          "data": {
            "text/plain": [
              "array([[ 1.00564972,  0.09493026,  0.21273976, -0.31198788,  0.27232816,\n",
              "         0.29073446,  0.23815287, -0.15681042,  0.13747022,  0.549451  ,\n",
              "        -0.07215255,  0.07275191,  0.64735687],\n",
              "       [ 0.09493026,  1.00564972,  0.16497228,  0.29013035, -0.05488343,\n",
              "        -0.3370606 , -0.41332866,  0.29463237, -0.22199334,  0.25039204,\n",
              "        -0.56446685, -0.37079354, -0.19309537],\n",
              "       [ 0.21273976,  0.16497228,  1.00564972,  0.44587209,  0.28820583,\n",
              "         0.12970824,  0.11572743,  0.1872826 ,  0.00970647,  0.2603499 ,\n",
              "        -0.07508874,  0.00393333,  0.22488969],\n",
              "       [-0.31198788,  0.29013035,  0.44587209,  1.00564972, -0.0838039 ,\n",
              "        -0.32292752, -0.353355  ,  0.36396647, -0.19844168,  0.01883781,\n",
              "        -0.27550299, -0.27833221, -0.44308618],\n",
              "       [ 0.27232816, -0.05488343,  0.28820583, -0.0838039 ,  1.00564972,\n",
              "         0.21561254,  0.19688989, -0.25774204,  0.23777643,  0.20107967,\n",
              "         0.05571118,  0.06637684,  0.39557317],\n",
              "       [ 0.29073446, -0.3370606 ,  0.12970824, -0.32292752,  0.21561254,\n",
              "         1.00564972,  0.86944804, -0.45247731,  0.61587304, -0.05544792,\n",
              "         0.43613151,  0.70390388,  0.50092909],\n",
              "       [ 0.23815287, -0.41332866,  0.11572743, -0.353355  ,  0.19688989,\n",
              "         0.86944804,  1.00564972, -0.54093859,  0.65637929, -0.17335329,\n",
              "         0.54654907,  0.79164133,  0.49698518],\n",
              "       [-0.15681042,  0.29463237,  0.1872826 ,  0.36396647, -0.25774204,\n",
              "        -0.45247731, -0.54093859,  1.00564972, -0.36791202,  0.13984265,\n",
              "        -0.26412347, -0.50611293, -0.31314443],\n",
              "       [ 0.13747022, -0.22199334,  0.00970647, -0.19844168,  0.23777643,\n",
              "         0.61587304,  0.65637929, -0.36791202,  1.00564972, -0.02539259,\n",
              "         0.29721399,  0.52199968,  0.33228346],\n",
              "       [ 0.549451  ,  0.25039204,  0.2603499 ,  0.01883781,  0.20107967,\n",
              "        -0.05544792, -0.17335329,  0.13984265, -0.02539259,  1.00564972,\n",
              "        -0.52476129, -0.43123763,  0.31788599],\n",
              "       [-0.07215255, -0.56446685, -0.07508874, -0.27550299,  0.05571118,\n",
              "         0.43613151,  0.54654907, -0.26412347,  0.29721399, -0.52476129,\n",
              "         1.00564972,  0.56866303,  0.23751782],\n",
              "       [ 0.07275191, -0.37079354,  0.00393333, -0.27833221,  0.06637684,\n",
              "         0.70390388,  0.79164133, -0.50611293,  0.52199968, -0.43123763,\n",
              "         0.56866303,  1.00564972,  0.31452809],\n",
              "       [ 0.64735687, -0.19309537,  0.22488969, -0.44308618,  0.39557317,\n",
              "         0.50092909,  0.49698518, -0.31314443,  0.33228346,  0.31788599,\n",
              "         0.23751782,  0.31452809,  1.00564972]])"
            ]
          },
          "metadata": {},
          "execution_count": 13
        }
      ]
    },
    {
      "cell_type": "code",
      "metadata": {
        "colab": {
          "base_uri": "https://localhost:8080/"
        },
        "id": "INO6qGZx1cUH",
        "outputId": "97e023d6-aaa0-4d4e-8d31-958ec909edb9"
      },
      "source": [
        "eigen_values,eigen_vectors=np.linalg.eig(cov_matrix)\n",
        "eigen_pairs=[(np.abs(eigen_values[i]),eigen_vectors[:,i]) for i in range (len(eigen_values))]\n",
        "print('Eigenvalues in descending order:')\n",
        "for i in eigen_pairs:\n",
        "  print(i[0])"
      ],
      "execution_count": 14,
      "outputs": [
        {
          "output_type": "stream",
          "name": "stdout",
          "text": [
            "Eigenvalues in descending order:\n",
            "4.732436977583593\n",
            "2.5110809296451233\n",
            "1.4542418678464695\n",
            "0.9241658668248732\n",
            "0.8580486765371116\n",
            "0.6452822124678548\n",
            "0.5541414662457851\n",
            "0.10396199182075336\n",
            "0.3504662749462543\n",
            "0.16972373898012205\n",
            "0.2905120326939765\n",
            "0.22706428173088514\n",
            "0.25232001036082513\n"
          ]
        }
      ]
    },
    {
      "cell_type": "code",
      "metadata": {
        "id": "wF61j0pK2HXP"
      },
      "source": [
        "pca=PCA()\n",
        "pca=pca.fit(X)\n",
        "explained_variance=pca.explained_variance_ratio_"
      ],
      "execution_count": 15,
      "outputs": []
    },
    {
      "cell_type": "code",
      "metadata": {
        "colab": {
          "base_uri": "https://localhost:8080/"
        },
        "id": "FcYdQVMi2VnP",
        "outputId": "7edfc189-5d16-46d0-c12e-fc9a2be43166"
      },
      "source": [
        "explained_variance"
      ],
      "execution_count": 16,
      "outputs": [
        {
          "output_type": "execute_result",
          "data": {
            "text/plain": [
              "array([0.36198848, 0.1920749 , 0.11123631, 0.0706903 , 0.06563294,\n",
              "       0.04935823, 0.04238679, 0.02680749, 0.02222153, 0.01930019,\n",
              "       0.01736836, 0.01298233, 0.00795215])"
            ]
          },
          "metadata": {},
          "execution_count": 16
        }
      ]
    },
    {
      "cell_type": "code",
      "metadata": {
        "id": "el2Vp2294Zcx"
      },
      "source": [
        "  df1=pd.DataFrame({'variable':pca.explained_variance_ratio_,'PC':['PC1','PC2','PC3','PC4','PC5','PC6','PC7','PC8','PC9','PC10','PC11','PC12','PC13']})"
      ],
      "execution_count": 17,
      "outputs": []
    },
    {
      "cell_type": "code",
      "metadata": {
        "colab": {
          "base_uri": "https://localhost:8080/",
          "height": 279
        },
        "id": "U1qzJreY42l0",
        "outputId": "d1211501-b3b1-474b-9bc6-1051edafb4c9"
      },
      "source": [
        "sns.barplot(x='PC',y=\"variable\",data=df1,color=\"purple\");"
      ],
      "execution_count": 18,
      "outputs": [
        {
          "output_type": "display_data",
          "data": {
            "image/png": "[encoded data removed]",
            "text/plain": [
              "<Figure size 432x288 with 1 Axes>"
            ]
          },
          "metadata": {
            "needs_background": "light"
          }
        }
      ]
    },
    {
      "cell_type": "code",
      "metadata": {
        "colab": {
          "base_uri": "https://localhost:8080/",
          "height": 279
        },
        "id": "74T54Icn6DMm",
        "outputId": "2d61dc3b-96d1-4c5e-edd1-596ccd6e37c7"
      },
      "source": [
        "plt.plot(np.cumsum(pca.explained_variance_ratio_))\n",
        "plt.xlabel('number of components')\n",
        "plt.ylabel('cumulative explained variance')\n",
        "plt.show()"
      ],
      "execution_count": 19,
      "outputs": [
        {
          "output_type": "display_data",
          "data": {
            "image/png": "[encoded data removed]",
            "text/plain": [
              "<Figure size 432x288 with 1 Axes>"
            ]
          },
          "metadata": {
            "needs_background": "light"
          }
        }
      ]
    },
    {
      "cell_type": "code",
      "metadata": {
        "id": "h9TYw7IX6rjY"
      },
      "source": [
        "pca_2=PCA(n_components=2)\n",
        "pca_2=pca_2.fit(X)\n",
        "pca_2d=pca_2.transform(X)\n"
      ],
      "execution_count": 20,
      "outputs": []
    },
    {
      "cell_type": "code",
      "metadata": {
        "colab": {
          "base_uri": "https://localhost:8080/"
        },
        "id": "q7MbLNc27XO1",
        "outputId": "33245862-11c0-41c0-ca58-d2d197c58098"
      },
      "source": [
        "pca_2d"
      ],
      "execution_count": 21,
      "outputs": [
        {
          "output_type": "execute_result",
          "data": {
            "text/plain": [
              "array([[ 3.31675081, -1.44346263],\n",
              "       [ 2.20946492,  0.33339289],\n",
              "       [ 2.51674015, -1.0311513 ],\n",
              "       [ 3.75706561, -2.75637191],\n",
              "       [ 1.00890849, -0.86983082],\n",
              "       [ 3.05025392, -2.12240111],\n",
              "       [ 2.44908967, -1.17485013],\n",
              "       [ 2.05943687, -1.60896307],\n",
              "       [ 2.5108743 , -0.91807096],\n",
              "       [ 2.75362819, -0.78943767],\n",
              "       [ 3.47973668, -1.30233324],\n",
              "       [ 1.7547529 , -0.61197723],\n",
              "       [ 2.11346234, -0.67570634],\n",
              "       [ 3.45815682, -1.13062988],\n",
              "       [ 4.31278391, -2.09597558],\n",
              "       [ 2.3051882 , -1.66255173],\n",
              "       [ 2.17195527, -2.32730534],\n",
              "       [ 1.89897118, -1.63136888],\n",
              "       [ 3.54198508, -2.51834367],\n",
              "       [ 2.0845222 , -1.06113799],\n",
              "       [ 3.12440254, -0.78689711],\n",
              "       [ 1.08657007, -0.24174355],\n",
              "       [ 2.53522408,  0.09184062],\n",
              "       [ 1.64498834,  0.51627893],\n",
              "       [ 1.76157587,  0.31714893],\n",
              "       [ 0.9900791 , -0.94066734],\n",
              "       [ 1.77527763, -0.68617513],\n",
              "       [ 1.23542396,  0.08980704],\n",
              "       [ 2.18840633, -0.68956962],\n",
              "       [ 2.25610898, -0.19146194],\n",
              "       [ 2.50022003, -1.24083383],\n",
              "       [ 2.67741105, -1.47187365],\n",
              "       [ 1.62857912, -0.05270445],\n",
              "       [ 1.90269086, -1.63306043],\n",
              "       [ 1.41038853, -0.69793432],\n",
              "       [ 1.90382623, -0.17671095],\n",
              "       [ 1.38486223, -0.65863985],\n",
              "       [ 1.12220741, -0.11410976],\n",
              "       [ 1.5021945 ,  0.76943201],\n",
              "       [ 2.52980109, -1.80300198],\n",
              "       [ 2.58809543, -0.7796163 ],\n",
              "       [ 0.66848199, -0.16996094],\n",
              "       [ 3.07080699, -1.15591896],\n",
              "       [ 0.46220914, -0.33074213],\n",
              "       [ 2.10135193,  0.07100892],\n",
              "       [ 1.13616618, -1.77710739],\n",
              "       [ 2.72660096, -1.19133469],\n",
              "       [ 2.82133927, -0.6462586 ],\n",
              "       [ 2.00985085, -1.24702946],\n",
              "       [ 2.7074913 , -1.75196741],\n",
              "       [ 3.21491747, -0.16699199],\n",
              "       [ 2.85895983, -0.7452788 ],\n",
              "       [ 3.50560436, -1.61273386],\n",
              "       [ 2.22479138, -1.875168  ],\n",
              "       [ 2.14698782, -1.01675154],\n",
              "       [ 2.46932948, -1.32900831],\n",
              "       [ 2.74151791, -1.43654878],\n",
              "       [ 2.17374092, -1.21219984],\n",
              "       [ 3.13938015, -1.73157912],\n",
              "       [-0.92858197,  3.07348616],\n",
              "       [-1.54248014,  1.38144351],\n",
              "       [-1.83624976,  0.82998412],\n",
              "       [ 0.03060683,  1.26278614],\n",
              "       [ 2.05026161,  1.9250326 ],\n",
              "       [-0.60968083,  1.90805881],\n",
              "       [ 0.90022784,  0.76391147],\n",
              "       [ 2.24850719,  1.88459248],\n",
              "       [ 0.18338403,  2.42714611],\n",
              "       [-0.81280503,  0.22051399],\n",
              "       [ 1.9756205 ,  1.40328323],\n",
              "       [-1.57221622,  0.88498314],\n",
              "       [ 1.65768181,  0.9567122 ],\n",
              "       [-0.72537239,  1.0636454 ],\n",
              "       [ 2.56222717, -0.26019855],\n",
              "       [ 1.83256757,  1.2878782 ],\n",
              "       [-0.8679929 ,  2.44410119],\n",
              "       [ 0.3700144 ,  2.15390698],\n",
              "       [-1.45737704,  1.38335177],\n",
              "       [ 1.26293085,  0.77084953],\n",
              "       [ 0.37615037,  1.0270434 ],\n",
              "       [ 0.7620639 ,  3.37505381],\n",
              "       [ 1.03457797,  1.45070974],\n",
              "       [-0.49487676,  2.38124353],\n",
              "       [-2.53897708,  0.08744336],\n",
              "       [ 0.83532015,  1.47367055],\n",
              "       [ 0.78790461,  2.02662652],\n",
              "       [-0.80683216,  2.23383039],\n",
              "       [-0.55804262,  2.37298543],\n",
              "       [-1.11511104,  1.80224719],\n",
              "       [-0.55572283,  2.65754004],\n",
              "       [-1.34928528,  2.11800147],\n",
              "       [-1.56448261,  1.85221452],\n",
              "       [-1.93255561,  1.55949546],\n",
              "       [ 0.74666594,  2.31293171],\n",
              "       [ 0.95745536,  2.22352843],\n",
              "       [ 2.54386518, -0.16927402],\n",
              "       [-0.54395259,  0.36892655],\n",
              "       [ 1.03104975,  2.56556935],\n",
              "       [ 2.25190942,  1.43274138],\n",
              "       [ 1.41021602,  2.16619177],\n",
              "       [ 0.79771979,  2.3769488 ],\n",
              "       [-0.54953173,  2.29312864],\n",
              "       [-0.16117374,  1.16448332],\n",
              "       [-0.65979494,  2.67996119],\n",
              "       [ 0.39235441,  2.09873171],\n",
              "       [-1.77249908,  1.71728847],\n",
              "       [-0.36626736,  2.1693533 ],\n",
              "       [-1.62067257,  1.35558339],\n",
              "       [ 0.08253578,  2.30623459],\n",
              "       [ 1.57827507,  1.46203429],\n",
              "       [ 1.42056925,  1.41820664],\n",
              "       [-0.27870275,  1.93056809],\n",
              "       [-1.30314497,  0.76317231],\n",
              "       [-0.45707187,  2.26941561],\n",
              "       [-0.49418585,  1.93904505],\n",
              "       [ 0.48207441,  3.87178385],\n",
              "       [-0.25288888,  2.82149237],\n",
              "       [-0.10722764,  1.92892204],\n",
              "       [-2.4330126 ,  1.25714104],\n",
              "       [-0.55108954,  2.22216155],\n",
              "       [ 0.73962193,  1.40895667],\n",
              "       [ 1.33632173, -0.25333693],\n",
              "       [-1.177087  ,  0.66396684],\n",
              "       [-0.46233501,  0.61828818],\n",
              "       [ 0.97847408,  1.4455705 ],\n",
              "       [-0.09680973,  2.10999799],\n",
              "       [ 0.03848715,  1.26676211],\n",
              "       [-1.5971585 ,  1.20814357],\n",
              "       [-0.47956492,  1.93884066],\n",
              "       [-1.79283347,  1.1502881 ],\n",
              "       [-1.32710166, -0.17038923],\n",
              "       [-2.38450083, -0.37458261],\n",
              "       [-2.9369401 , -0.26386183],\n",
              "       [-2.14681113, -0.36825495],\n",
              "       [-2.36986949,  0.45963481],\n",
              "       [-3.06384157, -0.35341284],\n",
              "       [-3.91575378, -0.15458252],\n",
              "       [-3.93646339, -0.65968723],\n",
              "       [-3.09427612, -0.34884276],\n",
              "       [-2.37447163, -0.29198035],\n",
              "       [-2.77881295, -0.28680487],\n",
              "       [-2.28656128, -0.37250784],\n",
              "       [-2.98563349, -0.48921791],\n",
              "       [-2.3751947 , -0.48233372],\n",
              "       [-2.20986553, -1.1600525 ],\n",
              "       [-2.625621  , -0.56316076],\n",
              "       [-4.28063878, -0.64967096],\n",
              "       [-3.58264137, -1.27270275],\n",
              "       [-2.80706372, -1.57053379],\n",
              "       [-2.89965933, -2.04105701],\n",
              "       [-2.32073698, -2.35636608],\n",
              "       [-2.54983095, -2.04528309],\n",
              "       [-1.81254128, -1.52764595],\n",
              "       [-2.76014464, -2.13893235],\n",
              "       [-2.7371505 , -0.40988627],\n",
              "       [-3.60486887, -1.80238422],\n",
              "       [-2.889826  , -1.92521861],\n",
              "       [-3.39215608, -1.31187639],\n",
              "       [-1.0481819 , -3.51508969],\n",
              "       [-1.60991228, -2.40663816],\n",
              "       [-3.14313097, -0.73816104],\n",
              "       [-2.2401569 , -1.17546529],\n",
              "       [-2.84767378, -0.55604397],\n",
              "       [-2.59749706, -0.69796554],\n",
              "       [-2.94929937, -1.55530896],\n",
              "       [-3.53003227, -0.8825268 ],\n",
              "       [-2.40611054, -2.59235618],\n",
              "       [-2.92908473, -1.27444695],\n",
              "       [-2.18141278, -2.07753731],\n",
              "       [-2.38092779, -2.58866743],\n",
              "       [-3.21161722,  0.2512491 ],\n",
              "       [-3.67791872, -0.84774784],\n",
              "       [-2.4655558 , -2.1937983 ],\n",
              "       [-3.37052415, -2.21628914],\n",
              "       [-2.60195585, -1.75722935],\n",
              "       [-2.67783946, -2.76089913],\n",
              "       [-2.38701709, -2.29734668],\n",
              "       [-3.20875816, -2.76891957]])"
            ]
          },
          "metadata": {},
          "execution_count": 21
        }
      ]
    },
    {
      "cell_type": "code",
      "metadata": {
        "colab": {
          "base_uri": "https://localhost:8080/",
          "height": 204
        },
        "id": "m9bFE7218u0J",
        "outputId": "f8ce5829-592f-47ba-88f5-a341cf12a5a8"
      },
      "source": [
        "PCA_dataset = pd.DataFrame(data = pca_2d, columns = ['component1', 'component2'] )\n",
        "PCA_dataset.head()"
      ],
      "execution_count": 22,
      "outputs": [
        {
          "output_type": "execute_result",
          "data": {
            "text/html": [
              "<div>\n",
              "<style scoped>\n",
              "    .dataframe tbody tr th:only-of-type {\n",
              "        vertical-align: middle;\n",
              "    }\n",
              "\n",
              "    .dataframe tbody tr th {\n",
              "        vertical-align: top;\n",
              "    }\n",
              "\n",
              "    .dataframe thead th {\n",
              "        text-align: right;\n",
              "    }\n",
              "</style>\n",
              "<table border=\"1\" class=\"dataframe\">\n",
              "  <thead>\n",
              "    <tr style=\"text-align: right;\">\n",
              "      <th></th>\n",
              "      <th>component1</th>\n",
              "      <th>component2</th>\n",
              "    </tr>\n",
              "  </thead>\n",
              "  <tbody>\n",
              "    <tr>\n",
              "      <th>0</th>\n",
              "      <td>3.316751</td>\n",
              "      <td>-1.443463</td>\n",
              "    </tr>\n",
              "    <tr>\n",
              "      <th>1</th>\n",
              "      <td>2.209465</td>\n",
              "      <td>0.333393</td>\n",
              "    </tr>\n",
              "    <tr>\n",
              "      <th>2</th>\n",
              "      <td>2.516740</td>\n",
              "      <td>-1.031151</td>\n",
              "    </tr>\n",
              "    <tr>\n",
              "      <th>3</th>\n",
              "      <td>3.757066</td>\n",
              "      <td>-2.756372</td>\n",
              "    </tr>\n",
              "    <tr>\n",
              "      <th>4</th>\n",
              "      <td>1.008908</td>\n",
              "      <td>-0.869831</td>\n",
              "    </tr>\n",
              "  </tbody>\n",
              "</table>\n",
              "</div>"
            ],
            "text/plain": [
              "   component1  component2\n",
              "0    3.316751   -1.443463\n",
              "1    2.209465    0.333393\n",
              "2    2.516740   -1.031151\n",
              "3    3.757066   -2.756372\n",
              "4    1.008908   -0.869831"
            ]
          },
          "metadata": {},
          "execution_count": 22
        }
      ]
    },
    {
      "cell_type": "code",
      "metadata": {
        "id": "mxZ8sjQW-SBX"
      },
      "source": [
        "principal_component1 = PCA_dataset['component1']\n",
        "principal_component2 = PCA_dataset['component2']"
      ],
      "execution_count": 24,
      "outputs": []
    },
    {
      "cell_type": "code",
      "metadata": {
        "colab": {
          "base_uri": "https://localhost:8080/",
          "height": 655
        },
        "id": "oWt2n_M4-WA9",
        "outputId": "6d5f5898-1de3-42f6-a7b7-413b2019a4e4"
      },
      "source": [
        "plt.figure()\n",
        "plt.figure(figsize=(10,10))\n",
        "plt.xlabel('Component 1')\n",
        "plt.ylabel('Component 2')\n",
        "plt.title('2 Component PCA')\n",
        "plt.scatter(PCA_dataset['component1'], PCA_dataset['component2'])"
      ],
      "execution_count": 29,
      "outputs": [
        {
          "output_type": "execute_result",
          "data": {
            "text/plain": [
              "<matplotlib.collections.PathCollection at 0x7f3e31d336d0>"
            ]
          },
          "metadata": {},
          "execution_count": 29
        },
        {
          "output_type": "display_data",
          "data": {
            "text/plain": [
              "<Figure size 432x288 with 0 Axes>"
            ]
          },
          "metadata": {}
        },
        {
          "output_type": "display_data",
          "data": {
            "image/png": "[encoded data removed]",
            "text/plain": [
              "<Figure size 720x720 with 1 Axes>"
            ]
          },
          "metadata": {
            "needs_background": "light"
          }
        }
      ]
    },
    {
      "cell_type": "markdown",
      "metadata": {
        "id": "UOCjZLUHDiQx"
      },
      "source": [
        "**SVD**"
      ]
    },
    {
      "cell_type": "code",
      "metadata": {
        "id": "bI3YKOFGDyjr"
      },
      "source": [
        "svd_df=pd.read_csv('Wine.csv')"
      ],
      "execution_count": 30,
      "outputs": []
    },
    {
      "cell_type": "code",
      "metadata": {
        "colab": {
          "base_uri": "https://localhost:8080/"
        },
        "id": "gnuev6lQEock",
        "outputId": "e55525ca-fa4a-4944-f16d-23a6828bb6ad"
      },
      "source": [
        "svd_df.shape"
      ],
      "execution_count": 31,
      "outputs": [
        {
          "output_type": "execute_result",
          "data": {
            "text/plain": [
              "(178, 14)"
            ]
          },
          "metadata": {},
          "execution_count": 31
        }
      ]
    },
    {
      "cell_type": "markdown",
      "metadata": {
        "id": "xuqGytm3Dj0C"
      },
      "source": [
        ""
      ]
    },
    {
      "cell_type": "code",
      "metadata": {
        "colab": {
          "base_uri": "https://localhost:8080/",
          "height": 224
        },
        "id": "ng1a4PrOE5wr",
        "outputId": "f51bb2db-9d27-40cc-ea7a-f482c7284f14"
      },
      "source": [
        "svd_df.head()"
      ],
      "execution_count": 32,
      "outputs": [
        {
          "output_type": "execute_result",
          "data": {
            "text/html": [
              "<div>\n",
              "<style scoped>\n",
              "    .dataframe tbody tr th:only-of-type {\n",
              "        vertical-align: middle;\n",
              "    }\n",
              "\n",
              "    .dataframe tbody tr th {\n",
              "        vertical-align: top;\n",
              "    }\n",
              "\n",
              "    .dataframe thead th {\n",
              "        text-align: right;\n",
              "    }\n",
              "</style>\n",
              "<table border=\"1\" class=\"dataframe\">\n",
              "  <thead>\n",
              "    <tr style=\"text-align: right;\">\n",
              "      <th></th>\n",
              "      <th>class</th>\n",
              "      <th>alcohol</th>\n",
              "      <th>malic_acid</th>\n",
              "      <th>ash</th>\n",
              "      <th>alcalinity_of_ash</th>\n",
              "      <th>magnesium</th>\n",
              "      <th>total_phenols</th>\n",
              "      <th>flavanoids</th>\n",
              "      <th>nonflavanoid_phenols</th>\n",
              "      <th>proanthocyanins</th>\n",
              "      <th>color_intensity</th>\n",
              "      <th>hue</th>\n",
              "      <th>od280/od315_of_diluted_wines</th>\n",
              "      <th>proline</th>\n",
              "    </tr>\n",
              "  </thead>\n",
              "  <tbody>\n",
              "    <tr>\n",
              "      <th>0</th>\n",
              "      <td>1</td>\n",
              "      <td>14.23</td>\n",
              "      <td>1.71</td>\n",
              "      <td>2.43</td>\n",
              "      <td>15.6</td>\n",
              "      <td>127</td>\n",
              "      <td>2.80</td>\n",
              "      <td>3.06</td>\n",
              "      <td>0.28</td>\n",
              "      <td>2.29</td>\n",
              "      <td>5.64</td>\n",
              "      <td>1.04</td>\n",
              "      <td>3.92</td>\n",
              "      <td>1065</td>\n",
              "    </tr>\n",
              "    <tr>\n",
              "      <th>1</th>\n",
              "      <td>1</td>\n",
              "      <td>13.20</td>\n",
              "      <td>1.78</td>\n",
              "      <td>2.14</td>\n",
              "      <td>11.2</td>\n",
              "      <td>100</td>\n",
              "      <td>2.65</td>\n",
              "      <td>2.76</td>\n",
              "      <td>0.26</td>\n",
              "      <td>1.28</td>\n",
              "      <td>4.38</td>\n",
              "      <td>1.05</td>\n",
              "      <td>3.40</td>\n",
              "      <td>1050</td>\n",
              "    </tr>\n",
              "    <tr>\n",
              "      <th>2</th>\n",
              "      <td>1</td>\n",
              "      <td>13.16</td>\n",
              "      <td>2.36</td>\n",
              "      <td>2.67</td>\n",
              "      <td>18.6</td>\n",
              "      <td>101</td>\n",
              "      <td>2.80</td>\n",
              "      <td>3.24</td>\n",
              "      <td>0.30</td>\n",
              "      <td>2.81</td>\n",
              "      <td>5.68</td>\n",
              "      <td>1.03</td>\n",
              "      <td>3.17</td>\n",
              "      <td>1185</td>\n",
              "    </tr>\n",
              "    <tr>\n",
              "      <th>3</th>\n",
              "      <td>1</td>\n",
              "      <td>14.37</td>\n",
              "      <td>1.95</td>\n",
              "      <td>2.50</td>\n",
              "      <td>16.8</td>\n",
              "      <td>113</td>\n",
              "      <td>3.85</td>\n",
              "      <td>3.49</td>\n",
              "      <td>0.24</td>\n",
              "      <td>2.18</td>\n",
              "      <td>7.80</td>\n",
              "      <td>0.86</td>\n",
              "      <td>3.45</td>\n",
              "      <td>1480</td>\n",
              "    </tr>\n",
              "    <tr>\n",
              "      <th>4</th>\n",
              "      <td>1</td>\n",
              "      <td>13.24</td>\n",
              "      <td>2.59</td>\n",
              "      <td>2.87</td>\n",
              "      <td>21.0</td>\n",
              "      <td>118</td>\n",
              "      <td>2.80</td>\n",
              "      <td>2.69</td>\n",
              "      <td>0.39</td>\n",
              "      <td>1.82</td>\n",
              "      <td>4.32</td>\n",
              "      <td>1.04</td>\n",
              "      <td>2.93</td>\n",
              "      <td>735</td>\n",
              "    </tr>\n",
              "  </tbody>\n",
              "</table>\n",
              "</div>"
            ],
            "text/plain": [
              "   class  alcohol  malic_acid  ...   hue  od280/od315_of_diluted_wines  proline\n",
              "0      1    14.23        1.71  ...  1.04                          3.92     1065\n",
              "1      1    13.20        1.78  ...  1.05                          3.40     1050\n",
              "2      1    13.16        2.36  ...  1.03                          3.17     1185\n",
              "3      1    14.37        1.95  ...  0.86                          3.45     1480\n",
              "4      1    13.24        2.59  ...  1.04                          2.93      735\n",
              "\n",
              "[5 rows x 14 columns]"
            ]
          },
          "metadata": {},
          "execution_count": 32
        }
      ]
    },
    {
      "cell_type": "code",
      "metadata": {
        "id": "laVbLCIyFbhT"
      },
      "source": [
        "x_var=svd_df.iloc[:,1:14]\n",
        "y_var=svd_df.iloc[:,0]\n",
        "scaler=StandardScaler()\n",
        "x_feat=scaler.fit_transform(x_var)"
      ],
      "execution_count": 36,
      "outputs": []
    },
    {
      "cell_type": "code",
      "metadata": {
        "id": "HEB8_RTogyDd"
      },
      "source": [
        ""
      ],
      "execution_count": null,
      "outputs": []
    },
    {
      "cell_type": "code",
      "metadata": {
        "id": "EPfyVNvOF13v"
      },
      "source": [
        "u,s,v=np.linalg.svd(x_feat,full_matrices=True)"
      ],
      "execution_count": 37,
      "outputs": []
    },
    {
      "cell_type": "code",
      "metadata": {
        "colab": {
          "base_uri": "https://localhost:8080/"
        },
        "id": "mdBuAuZ-Grtn",
        "outputId": "62095b84-dfd2-43a4-fb0c-4c1465ec5a81"
      },
      "source": [
        "u.shape"
      ],
      "execution_count": 38,
      "outputs": [
        {
          "output_type": "execute_result",
          "data": {
            "text/plain": [
              "(178, 178)"
            ]
          },
          "metadata": {},
          "execution_count": 38
        }
      ]
    },
    {
      "cell_type": "code",
      "metadata": {
        "colab": {
          "base_uri": "https://localhost:8080/"
        },
        "id": "Mm2XeIacTIry",
        "outputId": "ea6e398d-2f21-4f0d-ce3c-54c8887c414a"
      },
      "source": [
        "u"
      ],
      "execution_count": 39,
      "outputs": [
        {
          "output_type": "execute_result",
          "data": {
            "text/plain": [
              "array([[-0.12601885,  0.07082407, -0.01476376, ..., -0.01882032,\n",
              "        -0.02963174, -0.08609586],\n",
              "       [-0.07497485, -0.01912163, -0.12256267, ...,  0.11575157,\n",
              "         0.04651587,  0.14082687],\n",
              "       [-0.08232436,  0.04802808,  0.07829489, ...,  0.08580915,\n",
              "         0.02914877, -0.05582693],\n",
              "       ...,\n",
              "       [ 0.08466123,  0.1248798 , -0.05661571, ...,  0.93738156,\n",
              "        -0.05319095, -0.0035262 ],\n",
              "       [ 0.07590444,  0.11291678, -0.03112642, ..., -0.04986983,\n",
              "         0.93955418, -0.00485545],\n",
              "       [ 0.09748019,  0.1324618 ,  0.06832091, ...,  0.00396895,\n",
              "        -0.00252008,  0.93415922]])"
            ]
          },
          "metadata": {},
          "execution_count": 39
        }
      ]
    },
    {
      "cell_type": "code",
      "metadata": {
        "colab": {
          "base_uri": "https://localhost:8080/"
        },
        "id": "PXQUlq3UGwv_",
        "outputId": "4cf89cc8-db6a-4e24-b70f-57ab4d50f9b9"
      },
      "source": [
        "s.shape"
      ],
      "execution_count": 63,
      "outputs": [
        {
          "output_type": "execute_result",
          "data": {
            "text/plain": [
              "(13,)"
            ]
          },
          "metadata": {},
          "execution_count": 63
        }
      ]
    },
    {
      "cell_type": "code",
      "metadata": {
        "colab": {
          "base_uri": "https://localhost:8080/"
        },
        "id": "MO17RQda1gSj",
        "outputId": "8975cef6-fee5-4f8a-d4fb-4ea7ee36afba"
      },
      "source": [
        "s"
      ],
      "execution_count": 68,
      "outputs": [
        {
          "output_type": "execute_result",
          "data": {
            "text/plain": [
              "array([29.18913936, 21.78207432, 15.46781744, 12.81749842, 11.92404679,\n",
              "       10.28039428,  9.47059664,  7.72543264,  7.24178536,  6.82325826,\n",
              "        6.41563168,  5.4709025 ,  4.08147259])"
            ]
          },
          "metadata": {},
          "execution_count": 68
        }
      ]
    },
    {
      "cell_type": "code",
      "metadata": {
        "colab": {
          "base_uri": "https://localhost:8080/"
        },
        "id": "Z6QtdsusGzzw",
        "outputId": "f965b24f-299b-4a7e-e981-b1312babd3dc"
      },
      "source": [
        "v.shape\n"
      ],
      "execution_count": 66,
      "outputs": [
        {
          "output_type": "execute_result",
          "data": {
            "text/plain": [
              "(13, 13)"
            ]
          },
          "metadata": {},
          "execution_count": 66
        }
      ]
    },
    {
      "cell_type": "code",
      "metadata": {
        "colab": {
          "base_uri": "https://localhost:8080/"
        },
        "id": "4aMu2hKO1la1",
        "outputId": "b607f580-f246-4d5d-8ea4-fe77a4d61f10"
      },
      "source": [
        "v"
      ],
      "execution_count": 67,
      "outputs": [
        {
          "output_type": "execute_result",
          "data": {
            "text/plain": [
              "array([[-0.18319178,  0.21572905, -0.00984424,  0.27310161, -0.15507622,\n",
              "        -0.39446911, -0.42230957,  0.29437675, -0.33391639,  0.02229073,\n",
              "        -0.29298689, -0.35733143, -0.2739319 ],\n",
              "       [ 0.4479031 ,  0.28029175,  0.31926962, -0.01219498,  0.3189989 ,\n",
              "         0.00902362, -0.01989965,  0.05048114, -0.01378   ,  0.53132673,\n",
              "        -0.27084654, -0.16946282,  0.35969153],\n",
              "       [-0.18038902,  0.16013907,  0.62424916,  0.57755803,  0.11767737,\n",
              "         0.18183595,  0.13367089,  0.14930462,  0.19073265, -0.18234683,\n",
              "         0.0624406 ,  0.19451979, -0.14183387],\n",
              "       [ 0.06384466,  0.51657828, -0.27173399,  0.05224837, -0.38313934,\n",
              "         0.17476087,  0.16308724, -0.19415711,  0.31410988,  0.08901159,\n",
              "        -0.4551079 ,  0.20939998, -0.23089024],\n",
              "       [-0.26384508,  0.13046337, -0.10849307,  0.05722044,  0.64859149,\n",
              "        -0.14721272, -0.08144697, -0.61785258, -0.04055533, -0.13750356,\n",
              "        -0.18862175, -0.00495983, -0.10699298],\n",
              "       [ 0.1878337 ,  0.53443515,  0.12040703, -0.18960743, -0.08731668,\n",
              "        -0.08756895, -0.05002426, -0.064531  , -0.52152092, -0.34609346,\n",
              "         0.24248704,  0.3589274 ,  0.16521486],\n",
              "       [-0.18241614,  0.36076722, -0.24809488, -0.29595121,  0.41731976,\n",
              "         0.02614723, -0.00213382,  0.59405557,  0.34416674, -0.183439  ,\n",
              "         0.07436599, -0.03849555,  0.02396507],\n",
              "       [ 0.28134962,  0.10636644, -0.18837414,  0.37682888, -0.1034372 ,\n",
              "        -0.4695111 , -0.18927583, -0.14934401,  0.46427715, -0.1516923 ,\n",
              "         0.32007943, -0.06770468,  0.31173108],\n",
              "       [ 0.59955897, -0.0024361 , -0.15748248,  0.11898886,  0.23973728,\n",
              "         0.11192487,  0.03484194,  0.04068141, -0.07969407,  0.00330235,\n",
              "         0.26934562, -0.08501078, -0.66525033],\n",
              "       [ 0.20789937, -0.32586672, -0.2581608 ,  0.25813805,  0.19245527,\n",
              "        -0.03559768, -0.18629655,  0.26689554, -0.11034925, -0.0938712 ,\n",
              "        -0.39679104,  0.61248451,  0.13961179],\n",
              "       [-0.17486892,  0.15427325, -0.46318332,  0.48221744,  0.05312449,\n",
              "         0.41815906,  0.14956021,  0.03324647, -0.32017074,  0.17658569,\n",
              "         0.22703742, -0.16799133,  0.28971796],\n",
              "       [-0.27446962,  0.07751048, -0.04373238, -0.0060143 ,  0.0354574 ,\n",
              "        -0.36237867,  0.06121755,  0.0391346 , -0.00896718,  0.64968302,\n",
              "         0.33915771,  0.45042922, -0.19690696],\n",
              "       [-0.05720525,  0.04783586,  0.05692183, -0.0823888 , -0.04248249,\n",
              "         0.45855545, -0.81840768, -0.11903093,  0.15657384,  0.13630854,\n",
              "         0.17565703,  0.11627259, -0.03006382]])"
            ]
          },
          "metadata": {},
          "execution_count": 67
        }
      ]
    },
    {
      "cell_type": "code",
      "metadata": {
        "colab": {
          "base_uri": "https://localhost:8080/"
        },
        "id": "AI11ro2qG3u6",
        "outputId": "eae1b7c6-c7b7-4280-c95d-ef7855f81d27"
      },
      "source": [
        "var_explained=np.round(s**2/np.sum(s**2),decimals=3)\n",
        "var_explained"
      ],
      "execution_count": 42,
      "outputs": [
        {
          "output_type": "execute_result",
          "data": {
            "text/plain": [
              "array([0.368, 0.205, 0.103, 0.071, 0.061, 0.046, 0.039, 0.026, 0.023,\n",
              "       0.02 , 0.018, 0.013, 0.007])"
            ]
          },
          "metadata": {},
          "execution_count": 42
        }
      ]
    },
    {
      "cell_type": "code",
      "metadata": {
        "colab": {
          "base_uri": "https://localhost:8080/",
          "height": 318
        },
        "id": "lARyNDkiHLrG",
        "outputId": "8bd7589a-c6e2-43e1-a960-914d7cc189f2"
      },
      "source": [
        "sns.barplot(x=list(range(1,len(var_explained)+1)),y=var_explained,color=\"violet\")\n",
        "plt.xlabel('SVs',fontsize=14)\n",
        "plt.ylabel('Percent of the variance explained', fontsize=15)"
      ],
      "execution_count": 43,
      "outputs": [
        {
          "output_type": "execute_result",
          "data": {
            "text/plain": [
              "Text(0, 0.5, 'Percent of the variance explained')"
            ]
          },
          "metadata": {},
          "execution_count": 43
        },
        {
          "output_type": "display_data",
          "data": {
            "image/png": "[encoded data removed]",
            "text/plain": [
              "<Figure size 432x288 with 1 Axes>"
            ]
          },
          "metadata": {
            "needs_background": "light"
          }
        }
      ]
    },
    {
      "cell_type": "code",
      "metadata": {
        "colab": {
          "base_uri": "https://localhost:8080/",
          "height": 419
        },
        "id": "AgY730rUXD-d",
        "outputId": "9cefb6d5-d6d5-4493-87a8-17932717625c"
      },
      "source": [
        "col_lab=['SV'+str(i) for i in range(1,3)]\n",
        "svd_df1 = pd.DataFrame(u[:,0:2], index=svd_df[\"class\"].tolist(), columns=col_lab)\n",
        "svd_df1=svd_df1.reset_index()\n",
        "svd_df1.rename(columns={'index':'Class'},inplace=True)\n",
        "svd_df1.head(100)\n",
        "\n"
      ],
      "execution_count": 73,
      "outputs": [
        {
          "output_type": "execute_result",
          "data": {
            "text/html": [
              "<div>\n",
              "<style scoped>\n",
              "    .dataframe tbody tr th:only-of-type {\n",
              "        vertical-align: middle;\n",
              "    }\n",
              "\n",
              "    .dataframe tbody tr th {\n",
              "        vertical-align: top;\n",
              "    }\n",
              "\n",
              "    .dataframe thead th {\n",
              "        text-align: right;\n",
              "    }\n",
              "</style>\n",
              "<table border=\"1\" class=\"dataframe\">\n",
              "  <thead>\n",
              "    <tr style=\"text-align: right;\">\n",
              "      <th></th>\n",
              "      <th>Class</th>\n",
              "      <th>SV1</th>\n",
              "      <th>SV2</th>\n",
              "    </tr>\n",
              "  </thead>\n",
              "  <tbody>\n",
              "    <tr>\n",
              "      <th>0</th>\n",
              "      <td>0</td>\n",
              "      <td>-0.126019</td>\n",
              "      <td>0.070824</td>\n",
              "    </tr>\n",
              "    <tr>\n",
              "      <th>1</th>\n",
              "      <td>0</td>\n",
              "      <td>-0.074975</td>\n",
              "      <td>-0.019122</td>\n",
              "    </tr>\n",
              "    <tr>\n",
              "      <th>2</th>\n",
              "      <td>0</td>\n",
              "      <td>-0.082324</td>\n",
              "      <td>0.048028</td>\n",
              "    </tr>\n",
              "    <tr>\n",
              "      <th>3</th>\n",
              "      <td>0</td>\n",
              "      <td>-0.123259</td>\n",
              "      <td>0.111359</td>\n",
              "    </tr>\n",
              "    <tr>\n",
              "      <th>4</th>\n",
              "      <td>0</td>\n",
              "      <td>-0.036195</td>\n",
              "      <td>0.048175</td>\n",
              "    </tr>\n",
              "    <tr>\n",
              "      <th>...</th>\n",
              "      <td>...</td>\n",
              "      <td>...</td>\n",
              "      <td>...</td>\n",
              "    </tr>\n",
              "    <tr>\n",
              "      <th>95</th>\n",
              "      <td>1</td>\n",
              "      <td>-0.061951</td>\n",
              "      <td>-0.029746</td>\n",
              "    </tr>\n",
              "    <tr>\n",
              "      <th>96</th>\n",
              "      <td>1</td>\n",
              "      <td>0.025562</td>\n",
              "      <td>-0.006207</td>\n",
              "    </tr>\n",
              "    <tr>\n",
              "      <th>97</th>\n",
              "      <td>1</td>\n",
              "      <td>-0.034078</td>\n",
              "      <td>-0.133797</td>\n",
              "    </tr>\n",
              "    <tr>\n",
              "      <th>98</th>\n",
              "      <td>1</td>\n",
              "      <td>-0.074960</td>\n",
              "      <td>-0.081090</td>\n",
              "    </tr>\n",
              "    <tr>\n",
              "      <th>99</th>\n",
              "      <td>1</td>\n",
              "      <td>-0.032222</td>\n",
              "      <td>-0.110746</td>\n",
              "    </tr>\n",
              "  </tbody>\n",
              "</table>\n",
              "<p>100 rows × 3 columns</p>\n",
              "</div>"
            ],
            "text/plain": [
              "    Class       SV1       SV2\n",
              "0       0 -0.126019  0.070824\n",
              "1       0 -0.074975 -0.019122\n",
              "2       0 -0.082324  0.048028\n",
              "3       0 -0.123259  0.111359\n",
              "4       0 -0.036195  0.048175\n",
              "..    ...       ...       ...\n",
              "95      1 -0.061951 -0.029746\n",
              "96      1  0.025562 -0.006207\n",
              "97      1 -0.034078 -0.133797\n",
              "98      1 -0.074960 -0.081090\n",
              "99      1 -0.032222 -0.110746\n",
              "\n",
              "[100 rows x 3 columns]"
            ]
          },
          "metadata": {},
          "execution_count": 73
        }
      ]
    },
    {
      "cell_type": "markdown",
      "metadata": {
        "id": "TEvcXQFKb2qi"
      },
      "source": [
        "**T-SNE**"
      ]
    },
    {
      "cell_type": "code",
      "metadata": {
        "id": "CvYW8RMZaZoE"
      },
      "source": [
        "tsne = TSNE(n_components=2, verbose=1, perplexity=40, n_iter=300)"
      ],
      "execution_count": 45,
      "outputs": []
    },
    {
      "cell_type": "code",
      "metadata": {
        "colab": {
          "base_uri": "https://localhost:8080/"
        },
        "id": "c0fMICWre4Qo",
        "outputId": "edaf281d-c541-44fb-9f0f-5ae08cdf54b6"
      },
      "source": [
        "tsne_transform = tsne.fit_transform(X)"
      ],
      "execution_count": 46,
      "outputs": [
        {
          "output_type": "stream",
          "name": "stdout",
          "text": [
            "[t-SNE] Computing 121 nearest neighbors...\n",
            "[t-SNE] Indexed 178 samples in 0.000s...\n",
            "[t-SNE] Computed neighbors for 178 samples in 0.014s...\n",
            "[t-SNE] Computed conditional probabilities for sample 178 / 178\n",
            "[t-SNE] Mean sigma: 1.839161\n",
            "[t-SNE] KL divergence after 250 iterations with early exaggeration: 56.075523\n",
            "[t-SNE] KL divergence after 300 iterations: 0.332090\n"
          ]
        }
      ]
    },
    {
      "cell_type": "code",
      "metadata": {
        "colab": {
          "base_uri": "https://localhost:8080/"
        },
        "id": "IRlsLGJLe_mY",
        "outputId": "7b31cf33-3287-4f58-b3d7-618907fc0fc1"
      },
      "source": [
        "tsne_transform"
      ],
      "execution_count": 47,
      "outputs": [
        {
          "output_type": "execute_result",
          "data": {
            "text/plain": [
              "array([[ 10.621938  ,   8.99885   ],\n",
              "       [  7.2985816 ,   6.5037827 ],\n",
              "       [ 10.722053  ,   5.119495  ],\n",
              "       [ 12.559738  ,   7.149989  ],\n",
              "       [  8.414324  ,   2.3759358 ],\n",
              "       [ 12.566779  ,   6.204408  ],\n",
              "       [  9.182846  ,   6.149942  ],\n",
              "       [ 11.10645   ,   2.8624628 ],\n",
              "       [  9.509084  ,   6.7671785 ],\n",
              "       [ 10.2914915 ,   7.0120816 ],\n",
              "       [ 12.131982  ,   5.575193  ],\n",
              "       [  8.693131  ,   5.3795953 ],\n",
              "       [  9.271447  ,   5.294221  ],\n",
              "       [ 13.363573  ,   7.8622813 ],\n",
              "       [ 13.687454  ,   7.406764  ],\n",
              "       [ 11.718042  ,   3.7214255 ],\n",
              "       [ 10.984495  ,   3.9808545 ],\n",
              "       [ 10.518337  ,   3.4171295 ],\n",
              "       [ 13.147479  ,   5.380463  ],\n",
              "       [  8.406564  ,   8.930575  ],\n",
              "       [ 10.14163   ,   8.984147  ],\n",
              "       [  4.967687  ,   6.13558   ],\n",
              "       [  8.077768  ,   5.9973183 ],\n",
              "       [  6.9001136 ,   4.3713994 ],\n",
              "       [  6.9992247 ,   3.8819606 ],\n",
              "       [  5.6591787 ,   9.210531  ],\n",
              "       [  8.9953575 ,   4.3836255 ],\n",
              "       [  6.9949093 ,   5.602775  ],\n",
              "       [  9.332483  ,   2.9902096 ],\n",
              "       [  8.594049  ,   6.506137  ],\n",
              "       [ 11.21773   ,   4.5264893 ],\n",
              "       [ 11.858632  ,   5.2363076 ],\n",
              "       [  8.309787  ,   4.571562  ],\n",
              "       [ 10.881834  ,   2.41641   ],\n",
              "       [  8.565458  ,   3.8070283 ],\n",
              "       [  7.7706785 ,   5.102935  ],\n",
              "       [  8.690781  ,   3.1424003 ],\n",
              "       [  7.8341637 ,   3.9120877 ],\n",
              "       [  6.6775737 ,   5.379987  ],\n",
              "       [  8.809991  ,   9.624819  ],\n",
              "       [ 10.106267  ,   8.484262  ],\n",
              "       [  5.739649  ,   7.012563  ],\n",
              "       [ 10.965622  ,   7.384916  ],\n",
              "       [  5.2012467 ,   7.0864334 ],\n",
              "       [  8.864341  ,   7.5185094 ],\n",
              "       [  7.1300225 ,   7.8211145 ],\n",
              "       [  8.468282  ,   8.19881   ],\n",
              "       [  9.931047  ,   7.4652834 ],\n",
              "       [ 10.4516945 ,   5.781203  ],\n",
              "       [ 11.872154  ,   6.221825  ],\n",
              "       [ 11.939455  ,   9.25488   ],\n",
              "       [ 10.006741  ,   5.2255297 ],\n",
              "       [ 11.946175  ,   7.5352902 ],\n",
              "       [ 11.281389  ,   3.6117282 ],\n",
              "       [  9.510098  ,   7.8782015 ],\n",
              "       [ 10.99067   ,   5.8481536 ],\n",
              "       [ 10.321822  ,   8.043659  ],\n",
              "       [  9.9622    ,   4.1881723 ],\n",
              "       [ 11.660464  ,   6.9070334 ],\n",
              "       [ -7.4875183 ,   0.234832  ],\n",
              "       [ -7.7471128 ,  -3.3404074 ],\n",
              "       [ -7.7971416 ,  -3.558347  ],\n",
              "       [  0.92974746,  -1.668411  ],\n",
              "       [  2.9443297 ,   2.0817409 ],\n",
              "       [ -4.9219327 ,   0.602328  ],\n",
              "       [  4.1508822 ,   3.6449013 ],\n",
              "       [  3.2660809 ,   0.7664379 ],\n",
              "       [  0.4577687 ,  -0.18680678],\n",
              "       [ -6.90264   ,  -2.3125322 ],\n",
              "       [  5.6590085 ,  -1.8549938 ],\n",
              "       [ -5.6771626 ,  -3.2928534 ],\n",
              "       [  5.791866  ,   2.6087317 ],\n",
              "       [ -1.6427109 ,  -0.5907109 ],\n",
              "       [  9.679413  ,   1.0932674 ],\n",
              "       [  2.7609189 ,   3.2968032 ],\n",
              "       [ -0.29653573,  -1.6775118 ],\n",
              "       [  1.204738  ,  -1.0662972 ],\n",
              "       [ -5.1658173 ,  -2.7040145 ],\n",
              "       [  5.699629  ,  -1.8336352 ],\n",
              "       [ -1.6709783 ,   4.671874  ],\n",
              "       [  1.1154585 ,   0.42936206],\n",
              "       [  1.4945351 ,   1.5370461 ],\n",
              "       [ -3.63094   ,   1.1983348 ],\n",
              "       [ -6.0022693 ,  -8.352403  ],\n",
              "       [  1.3884153 ,   4.2035913 ],\n",
              "       [  0.97510844,   1.0395015 ],\n",
              "       [ -3.8737295 ,   0.6525243 ],\n",
              "       [ -4.0918245 ,   1.685994  ],\n",
              "       [ -3.3798122 ,   0.30372792],\n",
              "       [ -2.658019  ,   0.9429972 ],\n",
              "       [ -3.7196662 ,  -0.6151637 ],\n",
              "       [ -3.6198661 ,  -0.26430327],\n",
              "       [ -3.9060342 ,  -1.2144014 ],\n",
              "       [  0.7273583 ,   2.2860458 ],\n",
              "       [  1.7345214 ,   2.5246038 ],\n",
              "       [  5.8964634 ,  -1.800323  ],\n",
              "       [-11.291479  ,  -3.6442935 ],\n",
              "       [  1.6728598 ,   0.72834754],\n",
              "       [  3.257362  ,   2.1327047 ],\n",
              "       [ -0.7649153 ,   4.988552  ],\n",
              "       [  1.5065308 ,  -0.36797684],\n",
              "       [ -0.24163133,  -0.7609113 ],\n",
              "       [ -1.0631945 ,   3.092135  ],\n",
              "       [ -0.58291155,   0.95375216],\n",
              "       [  0.054231  ,   0.44724435],\n",
              "       [ -3.5326822 ,  -1.9243757 ],\n",
              "       [ -0.86549836,   0.04414143],\n",
              "       [ -3.392436  ,  -1.0298644 ],\n",
              "       [ -0.22533597,   1.4199507 ],\n",
              "       [  1.4329265 ,   4.2772818 ],\n",
              "       [  1.087415  ,   6.3499074 ],\n",
              "       [ -0.5146038 ,   2.1584435 ],\n",
              "       [ -5.63871   ,   0.58229625],\n",
              "       [ -3.064184  ,   1.5969907 ],\n",
              "       [ -2.3590271 ,   2.2924984 ],\n",
              "       [ -1.8736817 ,  -2.1302915 ],\n",
              "       [ -0.5299244 ,   0.58915776],\n",
              "       [ -1.4290094 ,   1.4638249 ],\n",
              "       [ -6.4346676 ,  -5.106469  ],\n",
              "       [ -1.3831141 ,   0.5829832 ],\n",
              "       [  0.4558371 ,   3.8485544 ],\n",
              "       [  7.4420953 ,   1.2670783 ],\n",
              "       [ -2.6344187 ,   4.486072  ],\n",
              "       [ -0.25420508,   6.753851  ],\n",
              "       [  0.5204229 ,   6.2412405 ],\n",
              "       [ -0.828579  ,   2.3634546 ],\n",
              "       [ -0.54684275,   3.122076  ],\n",
              "       [ -4.2299747 ,   2.9368498 ],\n",
              "       [ -1.8301828 ,   2.1783066 ],\n",
              "       [ -5.1636333 ,  -1.2259892 ],\n",
              "       [-11.050783  ,  -4.555643  ],\n",
              "       [-10.747292  ,  -5.9511867 ],\n",
              "       [-10.735557  ,  -6.1994424 ],\n",
              "       [-11.18917   ,  -5.7921424 ],\n",
              "       [ -7.89075   ,  -4.498642  ],\n",
              "       [ -8.1984215 ,  -5.809416  ],\n",
              "       [ -6.5900497 ,  -9.011396  ],\n",
              "       [ -6.390233  ,  -9.696036  ],\n",
              "       [ -7.815203  ,  -8.203701  ],\n",
              "       [ -6.3563046 ,  -7.1295424 ],\n",
              "       [ -7.0771313 ,  -6.9243374 ],\n",
              "       [ -8.535444  ,  -6.7770157 ],\n",
              "       [ -6.7758117 ,  -7.124762  ],\n",
              "       [ -7.202313  ,  -8.584628  ],\n",
              "       [-10.824057  ,  -7.183833  ],\n",
              "       [ -8.726104  ,  -7.350108  ],\n",
              "       [ -7.369179  ,  -9.734529  ],\n",
              "       [ -8.689993  ,  -9.089954  ],\n",
              "       [ -9.661309  ,  -8.979018  ],\n",
              "       [-11.455538  ,  -8.007506  ],\n",
              "       [-12.642709  ,  -7.770827  ],\n",
              "       [-12.039752  ,  -7.5225897 ],\n",
              "       [-13.01555   ,  -7.7066073 ],\n",
              "       [-10.37552   , -10.511098  ],\n",
              "       [ -9.016482  ,  -5.45724   ],\n",
              "       [ -8.599757  , -10.360909  ],\n",
              "       [ -9.569285  ,  -9.878063  ],\n",
              "       [ -7.6756263 , -11.02658   ],\n",
              "       [-11.490742  , -11.85016   ],\n",
              "       [-11.4293995 , -11.660181  ],\n",
              "       [ -8.918358  ,  -8.551404  ],\n",
              "       [ -7.537719  ,  -7.3926544 ],\n",
              "       [ -6.9294343 ,  -7.4954386 ],\n",
              "       [ -9.175991  ,  -6.8789477 ],\n",
              "       [-10.323179  ,  -8.613218  ],\n",
              "       [ -7.938614  ,  -9.018506  ],\n",
              "       [-11.533157  ,  -9.163928  ],\n",
              "       [-10.149163  ,  -8.111252  ],\n",
              "       [-11.6893835 ,  -8.892846  ],\n",
              "       [-12.847745  ,  -8.869513  ],\n",
              "       [ -9.333183  ,  -6.4764338 ],\n",
              "       [ -9.821412  ,  -7.6869435 ],\n",
              "       [-10.352394  ,  -9.182199  ],\n",
              "       [ -8.505519  ,  -9.942671  ],\n",
              "       [ -9.642137  ,  -9.147268  ],\n",
              "       [-11.257224  ,  -9.664777  ],\n",
              "       [-11.058253  ,  -9.915586  ],\n",
              "       [ -9.578844  , -10.831711  ]], dtype=float32)"
            ]
          },
          "metadata": {},
          "execution_count": 47
        }
      ]
    },
    {
      "cell_type": "code",
      "metadata": {
        "id": "zbWZirVwfEou"
      },
      "source": [
        "tsne_set=pd.DataFrame(data=tsne_transform,columns=['Component1','Component2'])"
      ],
      "execution_count": 48,
      "outputs": []
    },
    {
      "cell_type": "code",
      "metadata": {
        "colab": {
          "base_uri": "https://localhost:8080/",
          "height": 204
        },
        "id": "CY9CSVSXfZzE",
        "outputId": "b450aaca-a5b4-4da8-f7df-1ab20266f302"
      },
      "source": [
        "tsne_set.head()"
      ],
      "execution_count": 49,
      "outputs": [
        {
          "output_type": "execute_result",
          "data": {
            "text/html": [
              "<div>\n",
              "<style scoped>\n",
              "    .dataframe tbody tr th:only-of-type {\n",
              "        vertical-align: middle;\n",
              "    }\n",
              "\n",
              "    .dataframe tbody tr th {\n",
              "        vertical-align: top;\n",
              "    }\n",
              "\n",
              "    .dataframe thead th {\n",
              "        text-align: right;\n",
              "    }\n",
              "</style>\n",
              "<table border=\"1\" class=\"dataframe\">\n",
              "  <thead>\n",
              "    <tr style=\"text-align: right;\">\n",
              "      <th></th>\n",
              "      <th>Component1</th>\n",
              "      <th>Component2</th>\n",
              "    </tr>\n",
              "  </thead>\n",
              "  <tbody>\n",
              "    <tr>\n",
              "      <th>0</th>\n",
              "      <td>10.621938</td>\n",
              "      <td>8.998850</td>\n",
              "    </tr>\n",
              "    <tr>\n",
              "      <th>1</th>\n",
              "      <td>7.298582</td>\n",
              "      <td>6.503783</td>\n",
              "    </tr>\n",
              "    <tr>\n",
              "      <th>2</th>\n",
              "      <td>10.722053</td>\n",
              "      <td>5.119495</td>\n",
              "    </tr>\n",
              "    <tr>\n",
              "      <th>3</th>\n",
              "      <td>12.559738</td>\n",
              "      <td>7.149989</td>\n",
              "    </tr>\n",
              "    <tr>\n",
              "      <th>4</th>\n",
              "      <td>8.414324</td>\n",
              "      <td>2.375936</td>\n",
              "    </tr>\n",
              "  </tbody>\n",
              "</table>\n",
              "</div>"
            ],
            "text/plain": [
              "   Component1  Component2\n",
              "0   10.621938    8.998850\n",
              "1    7.298582    6.503783\n",
              "2   10.722053    5.119495\n",
              "3   12.559738    7.149989\n",
              "4    8.414324    2.375936"
            ]
          },
          "metadata": {},
          "execution_count": 49
        }
      ]
    },
    {
      "cell_type": "code",
      "metadata": {
        "id": "LJjHTxW6fdy9"
      },
      "source": [
        "##Extracting two features\n",
        "\n",
        "tsne_comp1=tsne_set['Component1']\n",
        "tsne_comp2=tsne_set['Component2']"
      ],
      "execution_count": 50,
      "outputs": []
    },
    {
      "cell_type": "code",
      "metadata": {
        "colab": {
          "base_uri": "https://localhost:8080/",
          "height": 655
        },
        "id": "GDVnAWgXfx0n",
        "outputId": "c758f538-ccdc-4051-b659-3d08f7b312a2"
      },
      "source": [
        "plt.figure()\n",
        "plt.figure(figsize=(10,10))\n",
        "plt.xlabel('Component 1')\n",
        "plt.ylabel('Component 2')\n",
        "plt.title('2 Component TSNE')\n",
        "plt.scatter(tsne_comp1, tsne_comp2)"
      ],
      "execution_count": 51,
      "outputs": [
        {
          "output_type": "execute_result",
          "data": {
            "text/plain": [
              "<matplotlib.collections.PathCollection at 0x7f3e3c535ed0>"
            ]
          },
          "metadata": {},
          "execution_count": 51
        },
        {
          "output_type": "display_data",
          "data": {
            "text/plain": [
              "<Figure size 432x288 with 0 Axes>"
            ]
          },
          "metadata": {}
        },
        {
          "output_type": "display_data",
          "data": {
            "image/png": "[encoded data removed]",
            "text/plain": [
              "<Figure size 720x720 with 1 Axes>"
            ]
          },
          "metadata": {
            "needs_background": "light"
          }
        }
      ]
    },
    {
      "cell_type": "code",
      "metadata": {
        "id": "OVULi1L2f3iy"
      },
      "source": [
        ""
      ],
      "execution_count": null,
      "outputs": []
    },
    {
      "cell_type": "markdown",
      "metadata": {
        "id": "23TGNyrtlpIH"
      },
      "source": [
        "**UMAP**"
      ]
    },
    {
      "cell_type": "code",
      "metadata": {
        "colab": {
          "base_uri": "https://localhost:8080/"
        },
        "id": "Ju-Mnqc7lwuY",
        "outputId": "67b798ba-4451-43c1-e476-cb8e52d9acf5"
      },
      "source": [
        "embedding = umap.UMAP(n_neighbors=50,\n",
        "                      min_dist=0.3,\n",
        "                      metric='correlation').fit_transform(X)"
      ],
      "execution_count": 58,
      "outputs": [
        {
          "output_type": "stream",
          "name": "stderr",
          "text": [
            "/usr/local/lib/python3.7/dist-packages/numba/np/ufunc/parallel.py:363: NumbaWarning: The TBB threading layer requires TBB version 2019.5 or later i.e., TBB_INTERFACE_VERSION >= 11005. Found TBB_INTERFACE_VERSION = 9107. The TBB threading layer is disabled.\n",
            "  warnings.warn(problem)\n"
          ]
        }
      ]
    },
    {
      "cell_type": "code",
      "metadata": {
        "id": "rhsqO0FJmgQg"
      },
      "source": [
        "umap_component1 = embedding[:,0]\n",
        "umap_component2 = embedding[:,1]"
      ],
      "execution_count": 59,
      "outputs": []
    },
    {
      "cell_type": "code",
      "metadata": {
        "colab": {
          "base_uri": "https://localhost:8080/"
        },
        "id": "UZnUmYlnmnuu",
        "outputId": "6c926084-09bd-4ede-bd9f-35066c6eb481"
      },
      "source": [
        "umap_component1"
      ],
      "execution_count": 60,
      "outputs": [
        {
          "output_type": "execute_result",
          "data": {
            "text/plain": [
              "array([-2.25571543e-01, -1.29696286e+00, -1.71509647e+00, -1.32596767e+00,\n",
              "        2.00329781e+00, -1.82909429e+00, -1.66166759e+00, -1.72416961e+00,\n",
              "       -1.21525633e+00, -9.04167831e-01, -2.41575551e+00, -2.80619431e+00,\n",
              "       -2.35682011e+00, -1.81836188e+00, -1.63775623e+00, -2.68156195e+00,\n",
              "       -2.03084421e+00, -2.36546230e+00, -2.41993999e+00, -5.61950445e-01,\n",
              "       -1.74014255e-01, -5.41911244e-01, -1.24382687e+00, -1.19449341e+00,\n",
              "       -8.65210474e-01,  2.28414726e+00, -1.78308356e+00, -2.59677005e+00,\n",
              "       -1.46843791e+00, -1.35670388e+00, -2.55272627e+00, -2.34609604e+00,\n",
              "       -2.22526574e+00, -2.07481050e+00, -2.18505406e+00, -8.77119243e-01,\n",
              "       -2.01438951e+00, -2.56142211e+00, -2.18815112e+00, -2.94275641e-01,\n",
              "       -1.18514560e-01, -5.66960633e-01, -1.17486763e+00, -2.17671812e-01,\n",
              "       -2.70047098e-01, -4.08018023e-01, -8.22904766e-01, -8.06857824e-01,\n",
              "       -1.60398352e+00, -1.88233149e+00, -1.37003410e+00, -2.22305512e+00,\n",
              "       -1.23688114e+00, -2.31456804e+00, -5.48340201e-01, -9.14356947e-01,\n",
              "       -4.85303819e-01, -2.30575585e+00, -1.41686761e+00,  6.31056905e-01,\n",
              "        3.91467571e+00,  4.54437876e+00,  8.52657855e-01,  1.34317741e-01,\n",
              "        2.84281802e+00,  1.24029720e+00,  1.47617355e-01,  8.31502676e-01,\n",
              "        4.14097929e+00,  6.44034028e-01,  4.35604334e+00,  5.18612921e-01,\n",
              "        1.47739208e+00,  1.65721095e+00,  3.66437249e-04,  1.47557044e+00,\n",
              "        6.88005328e-01,  3.67580771e+00,  4.95317370e-01,  7.07612514e-01,\n",
              "        1.17282391e+00,  6.76643610e-01,  2.24228549e+00,  4.80095148e+00,\n",
              "       -2.43570507e-01,  1.18956482e+00,  2.55053711e+00,  2.18503356e+00,\n",
              "        2.55910230e+00,  1.88894486e+00,  2.89137530e+00,  2.76921701e+00,\n",
              "        3.32451367e+00,  2.78585613e-01,  2.69591898e-01,  7.73250878e-01,\n",
              "        2.33352089e+00,  6.50799632e-01,  3.80591601e-02,  7.67160535e-01,\n",
              "        9.47719932e-01,  1.07708192e+00,  1.05555379e+00,  9.24614251e-01,\n",
              "        1.01502573e+00,  2.82643557e+00,  1.55343950e+00,  2.91970229e+00,\n",
              "        6.42839015e-01,  1.24886595e-01,  5.97288050e-02,  9.47354555e-01,\n",
              "        3.20417857e+00,  2.12858295e+00,  1.64194643e+00,  1.93310440e+00,\n",
              "        1.11603737e+00,  1.44562364e+00,  5.15053177e+00,  4.84266102e-01,\n",
              "        4.33994621e-01,  1.45137107e+00,  1.86898780e+00,  1.31540239e-01,\n",
              "        1.22406945e-01,  1.03835320e+00,  8.90735567e-01,  2.18910623e+00,\n",
              "        1.54411530e+00,  2.29475737e+00,  7.03623724e+00,  7.30890274e+00,\n",
              "        7.50883579e+00,  6.85384417e+00,  5.47588825e+00,  5.66996050e+00,\n",
              "        4.86684561e+00,  4.68389225e+00,  5.01803255e+00,  4.69404316e+00,\n",
              "        5.01810980e+00,  5.29633808e+00,  4.83158207e+00,  5.08195639e+00,\n",
              "        6.58452940e+00,  5.71071339e+00,  5.33520603e+00,  5.74601841e+00,\n",
              "        6.44002438e+00,  6.80314589e+00,  7.36136627e+00,  7.36746120e+00,\n",
              "        7.17677975e+00,  6.45511961e+00,  6.31040764e+00,  5.68808222e+00,\n",
              "        6.10910416e+00,  5.43028021e+00,  6.99482250e+00,  6.87801409e+00,\n",
              "        5.86414957e+00,  5.38131380e+00,  5.05428219e+00,  5.90387011e+00,\n",
              "        6.66931963e+00,  5.39208031e+00,  7.01477432e+00,  6.41188288e+00,\n",
              "        7.09375715e+00,  7.29118156e+00,  5.68332958e+00,  6.28682613e+00,\n",
              "        6.63611937e+00,  5.56888437e+00,  6.26983976e+00,  6.35925627e+00,\n",
              "        6.37361193e+00,  6.16203308e+00], dtype=float32)"
            ]
          },
          "metadata": {},
          "execution_count": 60
        }
      ]
    },
    {
      "cell_type": "code",
      "metadata": {
        "colab": {
          "base_uri": "https://localhost:8080/"
        },
        "id": "wZPNAIcWmq5a",
        "outputId": "0a90383e-71df-4d5c-c34f-5629876263ce"
      },
      "source": [
        "umap_component2"
      ],
      "execution_count": 61,
      "outputs": [
        {
          "output_type": "execute_result",
          "data": {
            "text/plain": [
              "array([10.959434 , 10.190912 , 10.481937 , 10.943414 ,  7.7905593,\n",
              "       10.439565 , 10.973496 ,  9.555701 , 11.523553 , 11.1316805,\n",
              "       11.1239805, 10.949569 , 10.989059 , 11.511625 , 11.34587  ,\n",
              "        9.557663 ,  9.556303 ,  9.299406 , 10.527178 , 10.128996 ,\n",
              "       10.661089 ,  8.216731 ,  9.803579 ,  9.195456 ,  8.826173 ,\n",
              "        7.430715 , 10.000259 , 10.734332 ,  8.913646 , 10.9437475,\n",
              "       10.213607 , 10.620858 , 11.255797 ,  8.758986 ,  9.1894455,\n",
              "        9.465251 ,  9.171491 ,  9.755487 , 10.541773 , 10.182512 ,\n",
              "       10.660242 ,  9.650899 , 10.091867 ,  9.327041 , 10.767576 ,\n",
              "        9.752973 , 10.470983 , 11.142674 , 11.452009 , 11.016221 ,\n",
              "       11.174959 , 10.735    , 10.759492 ,  9.580702 , 10.516262 ,\n",
              "       10.615931 , 10.991203 ,  9.910443 , 10.474573 ,  9.040898 ,\n",
              "        6.8547673,  6.8428345,  8.771127 ,  7.854712 ,  7.0665474,\n",
              "        7.400369 ,  8.641749 ,  7.678503 ,  6.936963 ,  9.660015 ,\n",
              "        5.637185 ,  7.6202283,  6.8902593,  7.92959  ,  8.066775 ,\n",
              "        8.304307 ,  8.640113 ,  6.538909 ,  9.856243 ,  6.473829 ,\n",
              "        7.9032426,  8.076896 ,  6.777807 ,  5.130136 ,  7.2221756,\n",
              "        8.218636 ,  6.948924 ,  6.7164106,  6.3687754,  6.6340694,\n",
              "        6.395716 ,  6.1230755,  5.920082 ,  7.2016187,  7.5633845,\n",
              "        9.761687 ,  8.057764 ,  8.232344 ,  8.086914 ,  7.3918104,\n",
              "        8.41428  ,  7.8397827,  5.878492 ,  6.8076534,  7.2206564,\n",
              "        5.734936 ,  7.2499304,  5.8251066,  6.9466233,  7.0239573,\n",
              "        6.8083143,  6.35151  ,  6.701102 ,  6.546283 ,  6.265179 ,\n",
              "        7.333912 ,  6.9123898,  7.1303043,  5.354964 ,  6.5933022,\n",
              "        6.085057 ,  5.9072757,  5.8180165,  6.3123918,  6.5841923,\n",
              "        6.1902595,  5.9609046,  5.9815817,  6.4053392,  5.446892 ,\n",
              "        4.475167 ,  4.738055 ,  5.077969 ,  4.725595 ,  6.7886825,\n",
              "        6.6161723,  5.369522 ,  5.5577483,  5.537057 ,  6.1840816,\n",
              "        6.1054955,  5.9879856,  6.263302 ,  5.144567 ,  5.102684 ,\n",
              "        4.937352 ,  4.848758 ,  6.0103936,  5.966121 ,  5.1172533,\n",
              "        4.6554947,  5.288252 ,  5.1211963,  6.3763885,  6.625081 ,\n",
              "        5.4137845,  5.616206 ,  6.243005 ,  6.1426997,  6.104949 ,\n",
              "        6.189113 ,  5.869895 ,  6.196009 ,  5.0629582,  5.6960597,\n",
              "        5.1761413,  5.493815 ,  5.7082996,  5.4397244,  4.9660707,\n",
              "        5.67219  ,  6.3712597,  5.9501185,  5.3061357,  5.102361 ,\n",
              "        5.430364 ,  6.135867 ,  5.816072 ], dtype=float32)"
            ]
          },
          "metadata": {},
          "execution_count": 61
        }
      ]
    },
    {
      "cell_type": "code",
      "metadata": {
        "colab": {
          "base_uri": "https://localhost:8080/",
          "height": 655
        },
        "id": "fB5pyG45mtUB",
        "outputId": "388fabc9-3107-4e64-9c89-121d38b6db41"
      },
      "source": [
        "plt.figure()\n",
        "plt.figure(figsize=(10,10))\n",
        "plt.xlabel('Component 1')\n",
        "plt.ylabel('Component 2')\n",
        "plt.title('2 Component UMAP')\n",
        "plt.scatter(umap_component1, umap_component2)"
      ],
      "execution_count": 62,
      "outputs": [
        {
          "output_type": "execute_result",
          "data": {
            "text/plain": [
              "<matplotlib.collections.PathCollection at 0x7f3dd9a9b090>"
            ]
          },
          "metadata": {},
          "execution_count": 62
        },
        {
          "output_type": "display_data",
          "data": {
            "text/plain": [
              "<Figure size 432x288 with 0 Axes>"
            ]
          },
          "metadata": {}
        },
        {
          "output_type": "display_data",
          "data": {
            "image/png": "[encoded data removed]",
            "text/plain": [
              "<Figure size 720x720 with 1 Axes>"
            ]
          },
          "metadata": {
            "needs_background": "light"
          }
        }
      ]
    },
    {
      "cell_type": "markdown",
      "metadata": {
        "id": "oYtXRGzrn9nj"
      },
      "source": [
        ""
      ]
    },
    {
      "cell_type": "code",
      "metadata": {
        "id": "P1yMa244muSe"
      },
      "source": [
        ""
      ],
      "execution_count": null,
      "outputs": []
    }
  ]
}